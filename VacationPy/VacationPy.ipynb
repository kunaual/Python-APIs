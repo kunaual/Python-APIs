{
 "cells": [
  {
   "cell_type": "markdown",
   "metadata": {},
   "source": [
    "# VacationPy\n",
    "----\n",
    "\n",
    "#### Note\n",
    "* Keep an eye on your API usage. Use https://developers.google.com/maps/reporting/gmp-reporting as reference for how to monitor your usage and billing.\n",
    "\n",
    "* Instructions have been included for each segment. You do not have to follow them exactly, but they are included to help you think through the steps."
   ]
  },
  {
   "cell_type": "code",
   "execution_count": 4,
   "metadata": {},
   "outputs": [],
   "source": [
    "# Dependencies and Setup\n",
    "import matplotlib.pyplot as plt\n",
    "import pandas as pd\n",
    "import numpy as np\n",
    "import requests\n",
    "import gmaps\n",
    "import os\n",
    "\n",
    "# Import API key\n",
    "from config import gkey\n",
    "# config gmaps\n",
    "gmaps.configure(api_key=gkey)"
   ]
  },
  {
   "cell_type": "markdown",
   "metadata": {},
   "source": [
    "### Store Part I results into DataFrame\n",
    "* Load the csv exported in Part I to a DataFrame"
   ]
  },
  {
   "cell_type": "code",
   "execution_count": 6,
   "metadata": {},
   "outputs": [
    {
     "data": {
      "text/html": [
       "<div>\n",
       "<style scoped>\n",
       "    .dataframe tbody tr th:only-of-type {\n",
       "        vertical-align: middle;\n",
       "    }\n",
       "\n",
       "    .dataframe tbody tr th {\n",
       "        vertical-align: top;\n",
       "    }\n",
       "\n",
       "    .dataframe thead th {\n",
       "        text-align: right;\n",
       "    }\n",
       "</style>\n",
       "<table border=\"1\" class=\"dataframe\">\n",
       "  <thead>\n",
       "    <tr style=\"text-align: right;\">\n",
       "      <th></th>\n",
       "      <th>City_ID</th>\n",
       "      <th>City</th>\n",
       "      <th>Cloudiness</th>\n",
       "      <th>Country</th>\n",
       "      <th>Date</th>\n",
       "      <th>Humidity</th>\n",
       "      <th>Lat</th>\n",
       "      <th>Lng</th>\n",
       "      <th>Max_Temp</th>\n",
       "      <th>Wind_Speed</th>\n",
       "    </tr>\n",
       "  </thead>\n",
       "  <tbody>\n",
       "    <tr>\n",
       "      <th>0</th>\n",
       "      <td>0</td>\n",
       "      <td>yellowknife</td>\n",
       "      <td>1</td>\n",
       "      <td>CA</td>\n",
       "      <td>1612722042</td>\n",
       "      <td>66</td>\n",
       "      <td>62.4560</td>\n",
       "      <td>-114.3525</td>\n",
       "      <td>-40.00</td>\n",
       "      <td>5.75</td>\n",
       "    </tr>\n",
       "    <tr>\n",
       "      <th>1</th>\n",
       "      <td>1</td>\n",
       "      <td>wuxue</td>\n",
       "      <td>100</td>\n",
       "      <td>CN</td>\n",
       "      <td>1612722305</td>\n",
       "      <td>90</td>\n",
       "      <td>29.8506</td>\n",
       "      <td>115.5525</td>\n",
       "      <td>51.66</td>\n",
       "      <td>3.22</td>\n",
       "    </tr>\n",
       "    <tr>\n",
       "      <th>2</th>\n",
       "      <td>2</td>\n",
       "      <td>shamkhal</td>\n",
       "      <td>90</td>\n",
       "      <td>RU</td>\n",
       "      <td>1612722306</td>\n",
       "      <td>80</td>\n",
       "      <td>43.0596</td>\n",
       "      <td>47.3373</td>\n",
       "      <td>32.00</td>\n",
       "      <td>17.90</td>\n",
       "    </tr>\n",
       "    <tr>\n",
       "      <th>3</th>\n",
       "      <td>3</td>\n",
       "      <td>vaini</td>\n",
       "      <td>75</td>\n",
       "      <td>TO</td>\n",
       "      <td>1612722306</td>\n",
       "      <td>89</td>\n",
       "      <td>-21.2000</td>\n",
       "      <td>-175.2000</td>\n",
       "      <td>78.80</td>\n",
       "      <td>12.66</td>\n",
       "    </tr>\n",
       "    <tr>\n",
       "      <th>4</th>\n",
       "      <td>4</td>\n",
       "      <td>esperance</td>\n",
       "      <td>75</td>\n",
       "      <td>AU</td>\n",
       "      <td>1612722307</td>\n",
       "      <td>88</td>\n",
       "      <td>-33.8667</td>\n",
       "      <td>121.9000</td>\n",
       "      <td>62.60</td>\n",
       "      <td>11.50</td>\n",
       "    </tr>\n",
       "    <tr>\n",
       "      <th>...</th>\n",
       "      <td>...</td>\n",
       "      <td>...</td>\n",
       "      <td>...</td>\n",
       "      <td>...</td>\n",
       "      <td>...</td>\n",
       "      <td>...</td>\n",
       "      <td>...</td>\n",
       "      <td>...</td>\n",
       "      <td>...</td>\n",
       "      <td>...</td>\n",
       "    </tr>\n",
       "    <tr>\n",
       "      <th>521</th>\n",
       "      <td>521</td>\n",
       "      <td>abu kamal</td>\n",
       "      <td>0</td>\n",
       "      <td>SY</td>\n",
       "      <td>1612722449</td>\n",
       "      <td>60</td>\n",
       "      <td>34.4506</td>\n",
       "      <td>40.9171</td>\n",
       "      <td>59.36</td>\n",
       "      <td>7.65</td>\n",
       "    </tr>\n",
       "    <tr>\n",
       "      <th>522</th>\n",
       "      <td>522</td>\n",
       "      <td>turka</td>\n",
       "      <td>100</td>\n",
       "      <td>UA</td>\n",
       "      <td>1612722449</td>\n",
       "      <td>86</td>\n",
       "      <td>49.1541</td>\n",
       "      <td>23.0297</td>\n",
       "      <td>32.00</td>\n",
       "      <td>3.98</td>\n",
       "    </tr>\n",
       "    <tr>\n",
       "      <th>523</th>\n",
       "      <td>523</td>\n",
       "      <td>shagamu</td>\n",
       "      <td>86</td>\n",
       "      <td>NG</td>\n",
       "      <td>1612722449</td>\n",
       "      <td>60</td>\n",
       "      <td>6.8432</td>\n",
       "      <td>3.6478</td>\n",
       "      <td>86.00</td>\n",
       "      <td>7.78</td>\n",
       "    </tr>\n",
       "    <tr>\n",
       "      <th>524</th>\n",
       "      <td>524</td>\n",
       "      <td>alcaniz</td>\n",
       "      <td>67</td>\n",
       "      <td>ES</td>\n",
       "      <td>1612722210</td>\n",
       "      <td>54</td>\n",
       "      <td>41.0500</td>\n",
       "      <td>-0.1333</td>\n",
       "      <td>51.01</td>\n",
       "      <td>4.00</td>\n",
       "    </tr>\n",
       "    <tr>\n",
       "      <th>525</th>\n",
       "      <td>525</td>\n",
       "      <td>san rafael del sur</td>\n",
       "      <td>20</td>\n",
       "      <td>NI</td>\n",
       "      <td>1612722450</td>\n",
       "      <td>43</td>\n",
       "      <td>11.8485</td>\n",
       "      <td>-86.4384</td>\n",
       "      <td>91.40</td>\n",
       "      <td>16.11</td>\n",
       "    </tr>\n",
       "  </tbody>\n",
       "</table>\n",
       "<p>526 rows × 10 columns</p>\n",
       "</div>"
      ],
      "text/plain": [
       "     City_ID                City  Cloudiness Country        Date  Humidity  \\\n",
       "0          0         yellowknife           1      CA  1612722042        66   \n",
       "1          1               wuxue         100      CN  1612722305        90   \n",
       "2          2            shamkhal          90      RU  1612722306        80   \n",
       "3          3               vaini          75      TO  1612722306        89   \n",
       "4          4           esperance          75      AU  1612722307        88   \n",
       "..       ...                 ...         ...     ...         ...       ...   \n",
       "521      521           abu kamal           0      SY  1612722449        60   \n",
       "522      522               turka         100      UA  1612722449        86   \n",
       "523      523             shagamu          86      NG  1612722449        60   \n",
       "524      524             alcaniz          67      ES  1612722210        54   \n",
       "525      525  san rafael del sur          20      NI  1612722450        43   \n",
       "\n",
       "         Lat       Lng  Max_Temp  Wind_Speed  \n",
       "0    62.4560 -114.3525    -40.00        5.75  \n",
       "1    29.8506  115.5525     51.66        3.22  \n",
       "2    43.0596   47.3373     32.00       17.90  \n",
       "3   -21.2000 -175.2000     78.80       12.66  \n",
       "4   -33.8667  121.9000     62.60       11.50  \n",
       "..       ...       ...       ...         ...  \n",
       "521  34.4506   40.9171     59.36        7.65  \n",
       "522  49.1541   23.0297     32.00        3.98  \n",
       "523   6.8432    3.6478     86.00        7.78  \n",
       "524  41.0500   -0.1333     51.01        4.00  \n",
       "525  11.8485  -86.4384     91.40       16.11  \n",
       "\n",
       "[526 rows x 10 columns]"
      ]
     },
     "execution_count": 6,
     "metadata": {},
     "output_type": "execute_result"
    }
   ],
   "source": [
    "# Read the mouse data and the study results\n",
    "weather_df = pd.read_csv('../output_data/cities.csv') \n",
    "weather_df"
   ]
  },
  {
   "cell_type": "markdown",
   "metadata": {},
   "source": [
    "### Humidity Heatmap\n",
    "* Configure gmaps.\n",
    "* Use the Lat and Lng as locations and Humidity as the weight.\n",
    "* Add Heatmap layer to map."
   ]
  },
  {
   "cell_type": "code",
   "execution_count": 7,
   "metadata": {},
   "outputs": [],
   "source": [
    "locations=weather_df[[\"Lat\",\"Lng\"]]\n",
    "weight=weather_df.Humidity"
   ]
  },
  {
   "cell_type": "code",
   "execution_count": 9,
   "metadata": {},
   "outputs": [
    {
     "data": {
      "application/vnd.jupyter.widget-view+json": {
       "model_id": "12bb5b74b7e64887b9c352c9a4c84dd6",
       "version_major": 2,
       "version_minor": 0
      },
      "text/plain": [
       "Figure(layout=FigureLayout(height='420px'))"
      ]
     },
     "metadata": {},
     "output_type": "display_data"
    }
   ],
   "source": [
    "fig = gmaps.figure()\n",
    "\n",
    "heat_layer = gmaps.heatmap_layer(locations, weights=weight, dissipating=False, max_intensity=100\n",
    "                                 ,point_radius=1)  # point radius how big shape around \n",
    "\n",
    "fig.add_layer(heat_layer)\n",
    "\n",
    "fig"
   ]
  },
  {
   "cell_type": "markdown",
   "metadata": {},
   "source": [
    "### Create new DataFrame fitting weather criteria\n",
    "* Narrow down the cities to fit weather conditions.\n",
    "* Drop any rows will null values."
   ]
  },
  {
   "cell_type": "code",
   "execution_count": 28,
   "metadata": {},
   "outputs": [],
   "source": [
    "#narrow down weather cities df to cities that have the right vacation weather.  use 3 criteria to narrow cities down to ~10 choices\n",
    "vacay_humidity_limit = 23\n",
    "vacay_temp_max = 80\n",
    "vacay_temp_min = 20\n",
    "vacay_df = weather_df.loc[(weather_df.Humidity<vacay_humidity_limit)&(weather_df.Max_Temp<=vacay_temp_max)&(weather_df.Max_Temp>vacay_temp_min)]\n",
    "#no need to drop null rows as that was done when building the weather df orifinally.\n",
    "#weather_df"
   ]
  },
  {
   "cell_type": "markdown",
   "metadata": {},
   "source": [
    "### Hotel Map\n",
    "* Store into variable named `hotel_df`.\n",
    "* Add a \"Hotel Name\" column to the DataFrame.\n",
    "* Set parameters to search for hotels with 5000 meters.\n",
    "* Hit the Google Places API for each city's coordinates.\n",
    "* Store the first Hotel result into the DataFrame.\n",
    "* Plot markers on top of the heatmap."
   ]
  },
  {
   "cell_type": "code",
   "execution_count": null,
   "metadata": {},
   "outputs": [],
   "source": []
  },
  {
   "cell_type": "code",
   "execution_count": null,
   "metadata": {},
   "outputs": [],
   "source": []
  },
  {
   "cell_type": "code",
   "execution_count": null,
   "metadata": {},
   "outputs": [],
   "source": [
    "# NOTE: Do not change any of the code in this cell\n",
    "\n",
    "# Using the template add the hotel marks to the heatmap\n",
    "info_box_template = \"\"\"\n",
    "<dl>\n",
    "<dt>Name</dt><dd>{Hotel Name}</dd>\n",
    "<dt>City</dt><dd>{City}</dd>\n",
    "<dt>Country</dt><dd>{Country}</dd>\n",
    "</dl>\n",
    "\"\"\"\n",
    "# Store the DataFrame Row\n",
    "# NOTE: be sure to update with your DataFrame name\n",
    "hotel_info = [info_box_template.format(**row) for index, row in hotel_df.iterrows()]\n",
    "locations = hotel_df[[\"Lat\", \"Lng\"]]"
   ]
  },
  {
   "cell_type": "code",
   "execution_count": null,
   "metadata": {},
   "outputs": [],
   "source": [
    "# Add marker layer ontop of heat map\n",
    "\n",
    "\n",
    "# Display figure\n"
   ]
  },
  {
   "cell_type": "code",
   "execution_count": null,
   "metadata": {},
   "outputs": [],
   "source": []
  }
 ],
 "metadata": {
  "kernelspec": {
   "display_name": "Python 3",
   "language": "python",
   "name": "python3"
  },
  "language_info": {
   "codemirror_mode": {
    "name": "ipython",
    "version": 3
   },
   "file_extension": ".py",
   "mimetype": "text/x-python",
   "name": "python",
   "nbconvert_exporter": "python",
   "pygments_lexer": "ipython3",
   "version": "3.6.10"
  },
  "latex_envs": {
   "LaTeX_envs_menu_present": true,
   "autoclose": false,
   "autocomplete": true,
   "bibliofile": "biblio.bib",
   "cite_by": "apalike",
   "current_citInitial": 1,
   "eqLabelWithNumbers": true,
   "eqNumInitial": 1,
   "hotkeys": {
    "equation": "Ctrl-E",
    "itemize": "Ctrl-I"
   },
   "labels_anchors": false,
   "latex_user_defs": false,
   "report_style_numbering": false,
   "user_envs_cfg": false
  }
 },
 "nbformat": 4,
 "nbformat_minor": 4
}
