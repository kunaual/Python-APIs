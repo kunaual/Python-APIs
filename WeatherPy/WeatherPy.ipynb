{
 "cells": [
  {
   "cell_type": "markdown",
   "metadata": {},
   "source": [
    "# WeatherPy\n",
    "----"
   ]
  },
  {
   "cell_type": "code",
   "execution_count": 1,
   "metadata": {
    "scrolled": true
   },
   "outputs": [],
   "source": [
    "# Dependencies and Setup\n",
    "import matplotlib.pyplot as plt\n",
    "import pandas as pd\n",
    "import numpy as np\n",
    "import requests\n",
    "import time\n",
    "from scipy.stats import linregress\n",
    "\n",
    "# Import API key\n",
    "from config import weather_api_key\n",
    "\n",
    "# Incorporated citipy to determine city based on latitude and longitude\n",
    "from citipy import citipy\n",
    "\n",
    "# Output File (CSV)\n",
    "output_data_file = \"output_data/cities.csv\"\n",
    "\n",
    "# Range of latitudes and longitudes\n",
    "lat_range = (-90, 90)\n",
    "lng_range = (-180, 180)"
   ]
  },
  {
   "cell_type": "markdown",
   "metadata": {},
   "source": [
    "## Generate Cities List"
   ]
  },
  {
   "cell_type": "code",
   "execution_count": 2,
   "metadata": {},
   "outputs": [],
   "source": [
    "# List for holding lat_lngs and cities\n",
    "lat_lngs = []\n",
    "cities = []\n",
    "\n",
    "# Create a set of random lat and lng combinations\n",
    "lats = np.random.uniform(lat_range[0], lat_range[1], size=1500)\n",
    "lngs = np.random.uniform(lng_range[0], lng_range[1], size=1500)\n",
    "lat_lngs = zip(lats, lngs)\n",
    "\n",
    "# Identify nearest city for each lat, lng combination\n",
    "for lat_lng in lat_lngs:\n",
    "    city = citipy.nearest_city(lat_lng[0], lat_lng[1]).city_name\n",
    "    \n",
    "    # If the city is unique, then add it to a our cities list\n",
    "    if city not in cities:\n",
    "        cities.append(city)\n",
    "\n"
   ]
  },
  {
   "cell_type": "code",
   "execution_count": 3,
   "metadata": {},
   "outputs": [
    {
     "name": "stdout",
     "output_type": "stream",
     "text": [
      "<class 'list'>\n"
     ]
    }
   ],
   "source": [
    "# Print the city count to confirm sufficient count\n",
    "print(f'There are {len(cities)} cities in the list')"
   ]
  },
  {
   "cell_type": "markdown",
   "metadata": {},
   "source": [
    "### Perform API Calls\n",
    "* Perform a weather check on each city using a series of successive API calls.\n",
    "* Include a print log of each city as it'sbeing processed (with the city number and city name).\n"
   ]
  },
  {
   "cell_type": "code",
   "execution_count": 6,
   "metadata": {},
   "outputs": [
    {
     "data": {
      "text/html": [
       "<div>\n",
       "<style scoped>\n",
       "    .dataframe tbody tr th:only-of-type {\n",
       "        vertical-align: middle;\n",
       "    }\n",
       "\n",
       "    .dataframe tbody tr th {\n",
       "        vertical-align: top;\n",
       "    }\n",
       "\n",
       "    .dataframe thead th {\n",
       "        text-align: right;\n",
       "    }\n",
       "</style>\n",
       "<table border=\"1\" class=\"dataframe\">\n",
       "  <thead>\n",
       "    <tr style=\"text-align: right;\">\n",
       "      <th></th>\n",
       "      <th>Lat</th>\n",
       "      <th>Lng</th>\n",
       "      <th>Max_Temp</th>\n",
       "      <th>Humidity</th>\n",
       "      <th>Cloudiness</th>\n",
       "      <th>Wind_Speed</th>\n",
       "      <th>Country</th>\n",
       "      <th>Date</th>\n",
       "    </tr>\n",
       "    <tr>\n",
       "      <th>City</th>\n",
       "      <th></th>\n",
       "      <th></th>\n",
       "      <th></th>\n",
       "      <th></th>\n",
       "      <th></th>\n",
       "      <th></th>\n",
       "      <th></th>\n",
       "      <th></th>\n",
       "    </tr>\n",
       "  </thead>\n",
       "  <tbody>\n",
       "    <tr>\n",
       "      <th>yellowknife</th>\n",
       "      <td></td>\n",
       "      <td></td>\n",
       "      <td></td>\n",
       "      <td></td>\n",
       "      <td></td>\n",
       "      <td></td>\n",
       "      <td></td>\n",
       "      <td></td>\n",
       "    </tr>\n",
       "    <tr>\n",
       "      <th>wuxue</th>\n",
       "      <td></td>\n",
       "      <td></td>\n",
       "      <td></td>\n",
       "      <td></td>\n",
       "      <td></td>\n",
       "      <td></td>\n",
       "      <td></td>\n",
       "      <td></td>\n",
       "    </tr>\n",
       "    <tr>\n",
       "      <th>shamkhal</th>\n",
       "      <td></td>\n",
       "      <td></td>\n",
       "      <td></td>\n",
       "      <td></td>\n",
       "      <td></td>\n",
       "      <td></td>\n",
       "      <td></td>\n",
       "      <td></td>\n",
       "    </tr>\n",
       "    <tr>\n",
       "      <th>linchuan</th>\n",
       "      <td></td>\n",
       "      <td></td>\n",
       "      <td></td>\n",
       "      <td></td>\n",
       "      <td></td>\n",
       "      <td></td>\n",
       "      <td></td>\n",
       "      <td></td>\n",
       "    </tr>\n",
       "    <tr>\n",
       "      <th>grand river south east</th>\n",
       "      <td></td>\n",
       "      <td></td>\n",
       "      <td></td>\n",
       "      <td></td>\n",
       "      <td></td>\n",
       "      <td></td>\n",
       "      <td></td>\n",
       "      <td></td>\n",
       "    </tr>\n",
       "    <tr>\n",
       "      <th>...</th>\n",
       "      <td>...</td>\n",
       "      <td>...</td>\n",
       "      <td>...</td>\n",
       "      <td>...</td>\n",
       "      <td>...</td>\n",
       "      <td>...</td>\n",
       "      <td>...</td>\n",
       "      <td>...</td>\n",
       "    </tr>\n",
       "    <tr>\n",
       "      <th>barra do garcas</th>\n",
       "      <td></td>\n",
       "      <td></td>\n",
       "      <td></td>\n",
       "      <td></td>\n",
       "      <td></td>\n",
       "      <td></td>\n",
       "      <td></td>\n",
       "      <td></td>\n",
       "    </tr>\n",
       "    <tr>\n",
       "      <th>koutsouras</th>\n",
       "      <td></td>\n",
       "      <td></td>\n",
       "      <td></td>\n",
       "      <td></td>\n",
       "      <td></td>\n",
       "      <td></td>\n",
       "      <td></td>\n",
       "      <td></td>\n",
       "    </tr>\n",
       "    <tr>\n",
       "      <th>upington</th>\n",
       "      <td></td>\n",
       "      <td></td>\n",
       "      <td></td>\n",
       "      <td></td>\n",
       "      <td></td>\n",
       "      <td></td>\n",
       "      <td></td>\n",
       "      <td></td>\n",
       "    </tr>\n",
       "    <tr>\n",
       "      <th>port pirie</th>\n",
       "      <td></td>\n",
       "      <td></td>\n",
       "      <td></td>\n",
       "      <td></td>\n",
       "      <td></td>\n",
       "      <td></td>\n",
       "      <td></td>\n",
       "      <td></td>\n",
       "    </tr>\n",
       "    <tr>\n",
       "      <th>naze</th>\n",
       "      <td></td>\n",
       "      <td></td>\n",
       "      <td></td>\n",
       "      <td></td>\n",
       "      <td></td>\n",
       "      <td></td>\n",
       "      <td></td>\n",
       "      <td></td>\n",
       "    </tr>\n",
       "  </tbody>\n",
       "</table>\n",
       "<p>604 rows × 8 columns</p>\n",
       "</div>"
      ],
      "text/plain": [
       "                       Lat Lng Max_Temp Humidity Cloudiness Wind_Speed  \\\n",
       "City                                                                     \n",
       "yellowknife                                                              \n",
       "wuxue                                                                    \n",
       "shamkhal                                                                 \n",
       "linchuan                                                                 \n",
       "grand river south east                                                   \n",
       "...                     ..  ..      ...      ...        ...        ...   \n",
       "barra do garcas                                                          \n",
       "koutsouras                                                               \n",
       "upington                                                                 \n",
       "port pirie                                                               \n",
       "naze                                                                     \n",
       "\n",
       "                       Country Date  \n",
       "City                                 \n",
       "yellowknife                          \n",
       "wuxue                                \n",
       "shamkhal                             \n",
       "linchuan                             \n",
       "grand river south east               \n",
       "...                        ...  ...  \n",
       "barra do garcas                      \n",
       "koutsouras                           \n",
       "upington                             \n",
       "port pirie                           \n",
       "naze                                 \n",
       "\n",
       "[604 rows x 8 columns]"
      ]
     },
     "execution_count": 6,
     "metadata": {},
     "output_type": "execute_result"
    }
   ],
   "source": [
    "# build df\n",
    "city_df = pd.DataFrame(cities)\n",
    "city_df.columns=[\"City\"]\n",
    "city_df[\"Lat\"]=\"\"\n",
    "city_df[\"Lng\"]=\"\"\n",
    "city_df[\"Max_Temp\"]=\"\"\n",
    "city_df[\"Humidity\"]=\"\"\n",
    "city_df[\"Cloudiness\"]=\"\"\n",
    "city_df[\"Wind_Speed\"]=\"\"\n",
    "city_df[\"Country\"]=\"\"\n",
    "city_df[\"Date\"]=\"\"\n",
    "#city_df[\"City ID\"]=\"\"  todo needed?\n",
    "\n",
    "city_df = city_df.set_index(\"City\")\n",
    "\n",
    "city_df"
   ]
  },
  {
   "cell_type": "code",
   "execution_count": 14,
   "metadata": {
    "scrolled": true
   },
   "outputs": [
    {
     "name": "stdout",
     "output_type": "stream",
     "text": [
      "Log - call 0 for yellowknife\n",
      "Log - call 1 for wuxue\n",
      "Log - call 2 for shamkhal\n",
      "Log - call 3 for linchuan\n",
      "Issue with city linchuan city not found\n",
      "Log - call 4 for grand river south east\n",
      "Issue with city grand river south east city not found\n",
      "Log - call 5 for belushya guba\n",
      "Issue with city belushya guba city not found\n",
      "Log - call 6 for vaini\n",
      "Log - call 7 for esperance\n",
      "Log - call 8 for barentsburg\n",
      "Issue with city barentsburg city not found\n",
      "Log - call 9 for tabiauea\n",
      "Issue with city tabiauea city not found\n",
      "Log - call 10 for busselton\n",
      "Log - call 11 for byron bay\n",
      "Log - call 12 for ponta do sol\n",
      "Log - call 13 for cape town\n",
      "Log - call 14 for college\n",
      "Log - call 15 for mahebourg\n",
      "Log - call 16 for faanui\n",
      "Log - call 17 for punta arenas\n",
      "Log - call 18 for luanda\n",
      "Log - call 19 for port elizabeth\n",
      "Log - call 20 for dembi dolo\n",
      "Log - call 21 for westport\n",
      "Log - call 22 for rosarito\n",
      "Log - call 23 for mataura\n",
      "Log - call 24 for waingapu\n",
      "Log - call 25 for sabha\n",
      "Log - call 26 for arraial do cabo\n",
      "Log - call 27 for dikson\n",
      "Log - call 28 for tuatapere\n",
      "Log - call 29 for rikitea\n",
      "Log - call 30 for sitka\n",
      "Log - call 31 for hobart\n",
      "Log - call 32 for saint george\n",
      "Log - call 33 for makung\n",
      "Issue with city makung city not found\n",
      "Log - call 34 for conde\n",
      "Log - call 35 for paracuru\n",
      "Log - call 36 for bambous virieux\n",
      "Log - call 37 for new castle\n",
      "Log - call 38 for bluff\n",
      "Log - call 39 for kasongo-lunda\n",
      "Log - call 40 for mareeba\n",
      "Log - call 41 for bredasdorp\n",
      "Log - call 42 for georgetown\n",
      "Log - call 43 for makinsk\n",
      "Log - call 44 for nizhneyansk\n",
      "Issue with city nizhneyansk city not found\n",
      "Log - call 45 for iqaluit\n",
      "Log - call 46 for puerto ayora\n",
      "Log - call 47 for tura\n",
      "Log - call 48 for constitucion\n",
      "Log - call 49 for ushuaia\n",
      "Log - call 50 for castro\n",
      "Log - call 51 for qaqortoq\n",
      "Log - call 52 for mao\n",
      "Log - call 53 for ostrovnoy\n",
      "Log - call 54 for jamestown\n",
      "Log - call 55 for avarua\n",
      "Log - call 56 for kondopoga\n",
      "Log - call 57 for methoni\n",
      "Log - call 58 for pevek\n",
      "Log - call 59 for nelson bay\n",
      "Log - call 60 for mayumba\n",
      "Log - call 61 for tasiilaq\n",
      "Log - call 62 for leningradskiy\n",
      "Log - call 63 for taolanaro\n",
      "Issue with city taolanaro city not found\n",
      "Log - call 64 for bartica\n",
      "Log - call 65 for mar del plata\n",
      "Log - call 66 for quebo\n",
      "Log - call 67 for port alfred\n",
      "Log - call 68 for itarema\n",
      "Log - call 69 for vaitupu\n",
      "Issue with city vaitupu city not found\n",
      "Log - call 70 for mayo\n",
      "Log - call 71 for cabo san lucas\n",
      "Log - call 72 for cidreira\n",
      "Log - call 73 for kavaratti\n",
      "Log - call 74 for lebu\n",
      "Log - call 75 for hilo\n",
      "Log - call 76 for taupo\n",
      "Log - call 77 for great falls\n",
      "Log - call 78 for lolua\n",
      "Issue with city lolua city not found\n",
      "Log - call 79 for ampanihy\n",
      "Log - call 80 for lagoa\n",
      "Log - call 81 for kavieng\n",
      "Log - call 82 for albany\n",
      "Log - call 83 for te anau\n",
      "Log - call 84 for coquimbo\n",
      "Log - call 85 for dongsheng\n",
      "Log - call 86 for abbeville\n",
      "Log - call 87 for kapaa\n",
      "Log - call 88 for butaritari\n",
      "Log - call 89 for severo-kurilsk\n",
      "Log - call 90 for mys shmidta\n",
      "Issue with city mys shmidta city not found\n",
      "Log - call 91 for piney green\n",
      "Log - call 92 for longyearbyen\n",
      "Log - call 93 for illoqqortoormiut\n",
      "Issue with city illoqqortoormiut city not found\n",
      "Log - call 94 for waitati\n",
      "Log - call 95 for karratha\n",
      "Log - call 96 for khash\n",
      "Log - call 97 for luderitz\n",
      "Log - call 98 for krasnoselkup\n",
      "Log - call 99 for palabuhanratu\n",
      "Issue with city palabuhanratu city not found\n",
      "Log - call 100 for ornskoldsvik\n",
      "Log - call 101 for adrar\n",
      "Log - call 102 for atuona\n",
      "Log - call 103 for tuktoyaktuk\n",
      "Log - call 104 for victoria\n",
      "Log - call 105 for koygorodok\n",
      "Log - call 106 for berezovyy\n",
      "Log - call 107 for japura\n",
      "Log - call 108 for qaanaaq\n",
      "Log - call 109 for pemba\n",
      "Log - call 110 for ancud\n",
      "Log - call 111 for walvis bay\n",
      "Log - call 112 for grand gaube\n",
      "Log - call 113 for hirado\n",
      "Log - call 114 for mount isa\n",
      "Log - call 115 for owando\n",
      "Log - call 116 for flinders\n",
      "Log - call 117 for saint-philippe\n",
      "Log - call 118 for nikolskoye\n",
      "Log - call 119 for samusu\n",
      "Issue with city samusu city not found\n",
      "Log - call 120 for acapulco\n",
      "Log - call 121 for lompoc\n",
      "Log - call 122 for samalaeulu\n",
      "Issue with city samalaeulu city not found\n",
      "Log - call 123 for thompson\n",
      "Log - call 124 for iquique\n",
      "Log - call 125 for bariadi\n",
      "Log - call 126 for erenhot\n",
      "Log - call 127 for saskylakh\n",
      "Log - call 128 for ribeira grande\n",
      "Log - call 129 for vila franca do campo\n",
      "Log - call 130 for goderich\n",
      "Log - call 131 for hithadhoo\n",
      "Log - call 132 for hermanus\n",
      "Log - call 133 for chuy\n",
      "Log - call 134 for cascais\n",
      "Log - call 135 for norman wells\n",
      "Log - call 136 for skjervoy\n",
      "Log - call 137 for worcester\n",
      "Log - call 138 for new norfolk\n",
      "Log - call 139 for puerto narino\n",
      "Log - call 140 for pakxe\n",
      "Log - call 141 for sayat\n",
      "Log - call 142 for okha\n",
      "Log - call 143 for hasaki\n",
      "Log - call 144 for corsicana\n",
      "Log - call 145 for coos bay\n",
      "Log - call 146 for aswan\n",
      "Log - call 147 for kamaishi\n",
      "Log - call 148 for texarkana\n",
      "Log - call 149 for nanortalik\n",
      "Log - call 150 for tokur\n",
      "Log - call 151 for barrow\n",
      "Log - call 152 for zaragoza\n",
      "Log - call 153 for nogent-le-rotrou\n",
      "Log - call 154 for batsfjord\n",
      "Log - call 155 for kon tum\n",
      "Log - call 156 for jiangyou\n",
      "Log - call 157 for sibolga\n",
      "Log - call 158 for kudahuvadhoo\n",
      "Log - call 159 for nichinan\n",
      "Log - call 160 for roma\n",
      "Log - call 161 for guerrero negro\n",
      "Log - call 162 for korgen\n",
      "Log - call 163 for sola\n",
      "Log - call 164 for jacareacanga\n",
      "Log - call 165 for amderma\n",
      "Issue with city amderma city not found\n",
      "Log - call 166 for ahipara\n",
      "Log - call 167 for chernihiv\n",
      "Log - call 168 for metro\n",
      "Log - call 169 for bingerville\n",
      "Log - call 170 for tiksi\n",
      "Log - call 171 for havre\n",
      "Log - call 172 for provideniya\n",
      "Log - call 173 for urucara\n",
      "Log - call 174 for upernavik\n",
      "Log - call 175 for agirish\n",
      "Log - call 176 for pangnirtung\n",
      "Log - call 177 for narsaq\n",
      "Log - call 178 for morehead\n",
      "Log - call 179 for lorengau\n",
      "Log - call 180 for bandarbeyla\n",
      "Log - call 181 for ilulissat\n",
      "Log - call 182 for meulaboh\n",
      "Log - call 183 for sao felix do xingu\n",
      "Log - call 184 for ust-nera\n",
      "Log - call 185 for thabazimbi\n",
      "Log - call 186 for aklavik\n",
      "Log - call 187 for kyzyl-mazhalyk\n",
      "Log - call 188 for tombouctou\n",
      "Log - call 189 for berlevag\n",
      "Log - call 190 for ngukurr\n",
      "Issue with city ngukurr city not found\n",
      "Log - call 191 for carnarvon\n",
      "Log - call 192 for khatanga\n",
      "Log - call 193 for le port\n",
      "Log - call 194 for evensk\n",
      "Log - call 195 for samana\n",
      "Log - call 196 for nalgonda\n",
      "Log - call 197 for nueva loja\n",
      "Log - call 198 for olafsvik\n",
      "Log - call 199 for kabanjahe\n",
      "Log - call 200 for bengkulu\n",
      "Log - call 201 for namtsy\n",
      "Log - call 202 for biltine\n",
      "Log - call 203 for itoman\n",
      "Log - call 204 for mudgee\n",
      "Log - call 205 for oranjemund\n",
      "Log - call 206 for banyuwangi\n",
      "Log - call 207 for newcastle\n",
      "Log - call 208 for colinas\n",
      "Log - call 209 for zhadovka\n",
      "Log - call 210 for mantua\n",
      "Log - call 211 for bon accord\n",
      "Log - call 212 for sentyabrskiy\n",
      "Issue with city sentyabrskiy city not found\n",
      "Log - call 213 for ostersund\n",
      "Log - call 214 for svetlaya\n",
      "Log - call 215 for katsuura\n",
      "Log - call 216 for ozgon\n",
      "Issue with city ozgon city not found\n",
      "Log - call 217 for tsihombe\n",
      "Issue with city tsihombe city not found\n",
      "Log - call 218 for labuhan\n",
      "Log - call 219 for grenada\n",
      "Log - call 220 for wanaka\n",
      "Log - call 221 for high level\n",
      "Log - call 222 for namibe\n",
      "Log - call 223 for chara\n",
      "Log - call 224 for east london\n",
      "Log - call 225 for inhambane\n",
      "Log - call 226 for sainte-suzanne\n",
      "Log - call 227 for antofagasta\n",
      "Log - call 228 for anadyr\n",
      "Log - call 229 for englewood\n",
      "Log - call 230 for alibag\n",
      "Log - call 231 for cherskiy\n",
      "Log - call 232 for porto novo\n",
      "Log - call 233 for marawi\n",
      "Log - call 234 for peniche\n",
      "Log - call 235 for kandrian\n",
      "Log - call 236 for labuan\n",
      "Log - call 237 for hambantota\n",
      "Log - call 238 for conceicao da barra\n",
      "Log - call 239 for hamilton\n",
      "Log - call 240 for unhel\n",
      "Log - call 241 for san patricio\n",
      "Log - call 242 for clyde river\n",
      "Log - call 243 for sol-iletsk\n",
      "Log - call 244 for burgeo\n",
      "Log - call 245 for ternate\n",
      "Log - call 246 for saint-pierre\n",
      "Log - call 247 for aguimes\n",
      "Log - call 248 for prince rupert\n",
      "Log - call 249 for chokurdakh\n",
      "Log - call 250 for dod ballapur\n",
      "Log - call 251 for najran\n",
      "Log - call 252 for lazaro cardenas\n",
      "Log - call 253 for shingu\n",
      "Log - call 254 for idritsa\n",
      "Log - call 255 for phek\n",
      "Log - call 256 for bumba\n",
      "Log - call 257 for coahuayana\n",
      "Log - call 258 for cap malheureux\n",
      "Log - call 259 for padang\n",
      "Log - call 260 for salym\n",
      "Log - call 261 for ilhabela\n",
      "Log - call 262 for oudtshoorn\n"
     ]
    },
    {
     "name": "stdout",
     "output_type": "stream",
     "text": [
      "Log - call 263 for mitu\n",
      "Log - call 264 for gobabis\n",
      "Log - call 265 for severo-yeniseyskiy\n",
      "Log - call 266 for baykit\n",
      "Log - call 267 for kuche\n",
      "Issue with city kuche city not found\n",
      "Log - call 268 for aktau\n",
      "Log - call 269 for saleaula\n",
      "Issue with city saleaula city not found\n",
      "Log - call 270 for asau\n",
      "Log - call 271 for tumannyy\n",
      "Issue with city tumannyy city not found\n",
      "Log - call 272 for fortuna\n",
      "Log - call 273 for port lincoln\n",
      "Log - call 274 for port hardy\n",
      "Log - call 275 for svarstad\n",
      "Log - call 276 for dingle\n",
      "Log - call 277 for burns lake\n",
      "Log - call 278 for kahului\n",
      "Log - call 279 for warrington\n",
      "Log - call 280 for beringovskiy\n",
      "Log - call 281 for sistranda\n",
      "Log - call 282 for kisangani\n",
      "Log - call 283 for ca mau\n",
      "Log - call 284 for llanes\n",
      "Log - call 285 for dunedin\n",
      "Log - call 286 for bethel\n",
      "Log - call 287 for kaeo\n",
      "Log - call 288 for sedan\n",
      "Log - call 289 for brookhaven\n",
      "Log - call 290 for port hedland\n",
      "Log - call 291 for sao filipe\n",
      "Log - call 292 for carballo\n",
      "Log - call 293 for maniitsoq\n",
      "Log - call 294 for aberlour\n",
      "Issue with city aberlour city not found\n",
      "Log - call 295 for sorland\n",
      "Log - call 296 for yulara\n",
      "Log - call 297 for codrington\n",
      "Log - call 298 for mizdah\n",
      "Log - call 299 for maceio\n",
      "Log - call 300 for staunton\n",
      "Log - call 301 for sinegorye\n",
      "Log - call 302 for shimoda\n",
      "Log - call 303 for sambava\n",
      "Log - call 304 for mangrol\n",
      "Log - call 305 for kloulklubed\n",
      "Log - call 306 for kapiri mposhi\n",
      "Log - call 307 for torbay\n",
      "Log - call 308 for aksu\n",
      "Log - call 309 for aquiraz\n",
      "Log - call 310 for kimbe\n",
      "Log - call 311 for outjo\n",
      "Log - call 312 for palasa\n",
      "Log - call 313 for samarai\n",
      "Log - call 314 for auki\n",
      "Log - call 315 for verkhnyaya inta\n",
      "Log - call 316 for katobu\n",
      "Log - call 317 for talnakh\n",
      "Log - call 318 for tateyama\n",
      "Log - call 319 for klaksvik\n",
      "Log - call 320 for salalah\n",
      "Log - call 321 for loukhi\n",
      "Log - call 322 for provost\n",
      "Log - call 323 for rocha\n",
      "Log - call 324 for lanzhou\n",
      "Log - call 325 for khailar\n",
      "Log - call 326 for turukhansk\n",
      "Log - call 327 for honiara\n",
      "Log - call 328 for sao joao da barra\n",
      "Log - call 329 for broken hill\n",
      "Log - call 330 for eyl\n",
      "Log - call 331 for kodiak\n",
      "Log - call 332 for santa cruz\n",
      "Log - call 333 for batemans bay\n",
      "Log - call 334 for zhigansk\n",
      "Log - call 335 for pandan\n",
      "Log - call 336 for cuamba\n",
      "Log - call 337 for viligili\n",
      "Issue with city viligili city not found\n",
      "Log - call 338 for lima\n",
      "Log - call 339 for strathmore\n",
      "Log - call 340 for safakulevo\n",
      "Log - call 341 for novikovo\n",
      "Log - call 342 for kitimat\n",
      "Log - call 343 for tiznit\n",
      "Log - call 344 for anloga\n",
      "Log - call 345 for pacific grove\n",
      "Log - call 346 for la libertad\n",
      "Log - call 347 for quatre cocos\n",
      "Log - call 348 for madimba\n",
      "Log - call 349 for plotnikovo\n",
      "Log - call 350 for plattsburgh\n",
      "Log - call 351 for bandrele\n",
      "Log - call 352 for nishihara\n",
      "Log - call 353 for bozoum\n",
      "Log - call 354 for kismayo\n",
      "Log - call 355 for mmabatho\n",
      "Log - call 356 for saldanha\n",
      "Log - call 357 for canutama\n",
      "Log - call 358 for mathathane\n",
      "Log - call 359 for oktyabrskoye\n",
      "Log - call 360 for isangel\n",
      "Log - call 361 for sonoita\n",
      "Log - call 362 for lavrentiya\n",
      "Log - call 363 for hailey\n",
      "Log - call 364 for luau\n",
      "Log - call 365 for umm kaddadah\n",
      "Log - call 366 for udachnyy\n",
      "Log - call 367 for karaul\n",
      "Issue with city karaul city not found\n",
      "Log - call 368 for dzaoudzi\n",
      "Log - call 369 for palu\n",
      "Log - call 370 for kinsale\n",
      "Log - call 371 for shenjiamen\n",
      "Log - call 372 for altamira\n",
      "Log - call 373 for north bend\n",
      "Log - call 374 for touros\n",
      "Log - call 375 for nara\n",
      "Log - call 376 for mweka\n",
      "Log - call 377 for rumoi\n",
      "Log - call 378 for kharan\n",
      "Log - call 379 for rach gia\n",
      "Log - call 380 for odweyne\n",
      "Log - call 381 for san cristobal\n",
      "Log - call 382 for siniscola\n",
      "Log - call 383 for kaniama\n",
      "Log - call 384 for rio grande\n",
      "Log - call 385 for aborlan\n",
      "Log - call 386 for mananjary\n",
      "Log - call 387 for arman\n",
      "Log - call 388 for andros town\n",
      "Log - call 389 for umzimvubu\n",
      "Issue with city umzimvubu city not found\n",
      "Log - call 390 for seoul\n",
      "Log - call 391 for iskandar\n",
      "Log - call 392 for louisbourg\n",
      "Issue with city louisbourg city not found\n",
      "Log - call 393 for utiroa\n",
      "Issue with city utiroa city not found\n",
      "Log - call 394 for port hawkesbury\n",
      "Log - call 395 for drayton valley\n",
      "Log - call 396 for tutoia\n",
      "Log - call 397 for souillac\n",
      "Log - call 398 for muros\n",
      "Log - call 399 for nome\n",
      "Log - call 400 for eydhafushi\n",
      "Log - call 401 for teya\n",
      "Log - call 402 for jiaojiang\n",
      "Log - call 403 for fram\n",
      "Log - call 404 for castrillon\n",
      "Log - call 405 for kamenka\n",
      "Log - call 406 for rawson\n",
      "Log - call 407 for vitim\n",
      "Log - call 408 for ponta delgada\n",
      "Log - call 409 for kruisfontein\n",
      "Log - call 410 for argelia\n",
      "Log - call 411 for taoudenni\n",
      "Log - call 412 for joshimath\n",
      "Log - call 413 for port augusta\n",
      "Log - call 414 for wasilla\n",
      "Log - call 415 for niscemi\n",
      "Log - call 416 for gangotri\n",
      "Issue with city gangotri city not found\n",
      "Log - call 417 for nadterechnoye\n",
      "Log - call 418 for nizhneivkino\n",
      "Log - call 419 for haverfordwest\n",
      "Log - call 420 for rapid valley\n",
      "Log - call 421 for geraldton\n",
      "Log - call 422 for bathsheba\n",
      "Log - call 423 for shelburne\n",
      "Log - call 424 for alice springs\n",
      "Log - call 425 for matveyevka\n",
      "Log - call 426 for petropavlovsk-kamchatskiy\n",
      "Log - call 427 for uige\n",
      "Log - call 428 for warqla\n",
      "Issue with city warqla city not found\n",
      "Log - call 429 for gorom-gorom\n",
      "Log - call 430 for coihaique\n",
      "Log - call 431 for mergui\n",
      "Issue with city mergui city not found\n",
      "Log - call 432 for begoro\n",
      "Log - call 433 for sidi ali\n",
      "Log - call 434 for piacabucu\n",
      "Log - call 435 for luganville\n",
      "Log - call 436 for north platte\n",
      "Log - call 437 for tselinnoye\n",
      "Log - call 438 for saint-augustin\n",
      "Log - call 439 for manokwari\n",
      "Log - call 440 for erzin\n",
      "Log - call 441 for twin falls\n",
      "Log - call 442 for sakakah\n",
      "Log - call 443 for rawdon\n",
      "Log - call 444 for raudeberg\n",
      "Log - call 445 for sisimiut\n",
      "Log - call 446 for labis\n",
      "Log - call 447 for praia da vitoria\n",
      "Log - call 448 for xingyi\n",
      "Log - call 449 for lindome\n",
      "Log - call 450 for surab\n",
      "Log - call 451 for attawapiskat\n",
      "Issue with city attawapiskat city not found\n",
      "Log - call 452 for avera\n",
      "Log - call 453 for cayenne\n",
      "Log - call 454 for galle\n",
      "Log - call 455 for yengema\n",
      "Log - call 456 for sumbawa\n",
      "Issue with city sumbawa city not found\n",
      "Log - call 457 for chagda\n",
      "Issue with city chagda city not found\n",
      "Log - call 458 for balikpapan\n",
      "Log - call 459 for tongren\n",
      "Log - call 460 for bubaque\n",
      "Log - call 461 for mwene-ditu\n",
      "Log - call 462 for hami\n",
      "Log - call 463 for gat\n",
      "Log - call 464 for neiafu\n",
      "Log - call 465 for kandi\n",
      "Log - call 466 for rabat\n",
      "Log - call 467 for prainha\n",
      "Log - call 468 for rongcheng\n",
      "Log - call 469 for nguiu\n",
      "Issue with city nguiu city not found\n",
      "Log - call 470 for mumford\n",
      "Log - call 471 for tautira\n",
      "Log - call 472 for kushmurun\n",
      "Log - call 473 for ranong\n",
      "Log - call 474 for sirsi\n",
      "Log - call 475 for the valley\n",
      "Log - call 476 for atar\n",
      "Log - call 477 for tecoanapa\n",
      "Log - call 478 for forestville\n",
      "Log - call 479 for general roca\n",
      "Log - call 480 for smithers\n",
      "Log - call 481 for puerto del rosario\n",
      "Log - call 482 for luba\n",
      "Log - call 483 for nurota\n",
      "Log - call 484 for emporia\n",
      "Log - call 485 for tigil\n",
      "Log - call 486 for kotelnich\n",
      "Log - call 487 for mbini\n",
      "Log - call 488 for magadan\n",
      "Log - call 489 for shahdadkot\n",
      "Log - call 490 for husavik\n",
      "Log - call 491 for saint-francois\n",
      "Log - call 492 for kayerkan\n",
      "Log - call 493 for mentok\n",
      "Issue with city mentok city not found\n",
      "Log - call 494 for port shepstone\n",
      "Log - call 495 for hearst\n",
      "Log - call 496 for praia\n",
      "Log - call 497 for cleethorpes\n",
      "Log - call 498 for nouadhibou\n",
      "Log - call 499 for santa fe\n",
      "Log - call 500 for azimur\n",
      "Issue with city azimur city not found\n",
      "Log - call 501 for union\n",
      "Log - call 502 for kalmar\n",
      "Log - call 503 for inongo\n",
      "Log - call 504 for ayia marina\n",
      "Log - call 505 for vangaindrano\n",
      "Log - call 506 for anchorage\n",
      "Log - call 507 for roald\n",
      "Log - call 508 for bogorodskoye\n",
      "Log - call 509 for seara\n",
      "Log - call 510 for liverpool\n",
      "Log - call 511 for nhulunbuy\n",
      "Log - call 512 for nyurba\n",
      "Log - call 513 for bissau\n",
      "Log - call 514 for tabou\n",
      "Log - call 515 for yuzhnyy\n",
      "Log - call 516 for san miguel\n",
      "Log - call 517 for russell\n",
      "Log - call 518 for ginir\n",
      "Log - call 519 for amparai\n",
      "Issue with city amparai city not found\n",
      "Log - call 520 for oktyabrskiy\n",
      "Log - call 521 for abatskoye\n",
      "Log - call 522 for witrivier\n",
      "Issue with city witrivier city not found\n",
      "Log - call 523 for kaitangata\n",
      "Log - call 524 for sinnamary\n",
      "Log - call 525 for lata\n",
      "Log - call 526 for faya\n",
      "Log - call 527 for bambanglipuro\n"
     ]
    },
    {
     "name": "stdout",
     "output_type": "stream",
     "text": [
      "Log - call 528 for tatvan\n",
      "Log - call 529 for buala\n",
      "Log - call 530 for ayan\n",
      "Log - call 531 for san andres\n",
      "Log - call 532 for atikokan\n",
      "Log - call 533 for airai\n",
      "Log - call 534 for grafton\n",
      "Log - call 535 for myaundzha\n",
      "Log - call 536 for marcona\n",
      "Issue with city marcona city not found\n",
      "Log - call 537 for mae sai\n",
      "Log - call 538 for boa vista\n",
      "Log - call 539 for poum\n",
      "Log - call 540 for tyukalinsk\n",
      "Log - call 541 for ugoofaaru\n",
      "Log - call 542 for pisco\n",
      "Log - call 543 for bonavista\n",
      "Log - call 544 for hirara\n",
      "Log - call 545 for sainte-marie\n",
      "Log - call 546 for doctor pedro p. pena\n",
      "Issue with city doctor pedro p. pena city not found\n",
      "Log - call 547 for syracuse\n",
      "Log - call 548 for mersing\n",
      "Log - call 549 for arco\n",
      "Log - call 550 for broome\n",
      "Log - call 551 for svolvaer\n",
      "Log - call 552 for barbosa ferraz\n",
      "Log - call 553 for straldza\n",
      "Issue with city straldza city not found\n",
      "Log - call 554 for havre-saint-pierre\n",
      "Log - call 555 for iralaya\n",
      "Log - call 556 for concepcion del uruguay\n",
      "Log - call 557 for aguas vermelhas\n",
      "Log - call 558 for hobyo\n",
      "Log - call 559 for muroto\n",
      "Log - call 560 for gizo\n",
      "Log - call 561 for dzhusaly\n",
      "Issue with city dzhusaly city not found\n",
      "Log - call 562 for sesimbra\n",
      "Log - call 563 for kurumkan\n",
      "Log - call 564 for chagoda\n",
      "Log - call 565 for abu kamal\n",
      "Log - call 566 for turka\n",
      "Log - call 567 for shagamu\n",
      "Log - call 568 for alcaniz\n",
      "Log - call 569 for san rafael del sur\n",
      "Log - call 570 for pinotepa nacional\n",
      "Log - call 571 for ossora\n",
      "Log - call 572 for puerto escondido\n",
      "Log - call 573 for saint anthony\n",
      "Log - call 574 for vallenar\n",
      "Log - call 575 for kuala krai\n",
      "Issue with city kuala krai city not found\n",
      "Log - call 576 for yaitepec\n",
      "Issue with city yaitepec city not found\n",
      "Log - call 577 for bolshiye uki\n",
      "Issue with city bolshiye uki city not found\n",
      "Log - call 578 for eenhana\n",
      "Log - call 579 for alotau\n",
      "Issue with city alotau city not found\n",
      "Log - call 580 for felidhoo\n",
      "Issue with city felidhoo city not found\n",
      "Log - call 581 for lewiston\n",
      "Log - call 582 for woodward\n",
      "Log - call 583 for lalin\n",
      "Log - call 584 for pascagoula\n",
      "Log - call 585 for am timan\n",
      "Log - call 586 for garden city\n",
      "Log - call 587 for shchelyayur\n",
      "Issue with city shchelyayur city not found\n",
      "Log - call 588 for ormara\n",
      "Log - call 589 for juifang\n",
      "Issue with city juifang city not found\n",
      "Log - call 590 for west odessa\n",
      "Log - call 591 for vostok\n",
      "Log - call 592 for belmonte\n",
      "Log - call 593 for bahia blanca\n",
      "Log - call 594 for lichuan\n",
      "Log - call 595 for alyangula\n",
      "Log - call 596 for komsomolskiy\n",
      "Log - call 597 for saint john\n",
      "Log - call 598 for manbij\n",
      "Log - call 599 for barra do garcas\n",
      "Log - call 600 for koutsouras\n",
      "Log - call 601 for upington\n",
      "Log - call 602 for port pirie\n",
      "Log - call 603 for naze\n"
     ]
    }
   ],
   "source": [
    "# example url from the API docs: api.openweathermap.org/data/2.5/weather?q={city name}&appid={API key}\n",
    "count=0\n",
    "for city in cities:\n",
    "#    city_df.loc[city,\"City ID\"]=count\n",
    "    #todo if need different unit of measure on temp need to update the url\n",
    "    weather_url = f'https://api.openweathermap.org/data/2.5/weather?q={city}&units=imperial&appid={weather_api_key}'\n",
    "\n",
    "\n",
    "#    fuck= requests.get(f'https://api.openweathermap.org/data/2.5/weather?q={city}&appid={weather_api_key}').json()\n",
    "\n",
    "    #todo decide if going to keep reindex above. if don't keep it, then don't need to regen a counter here\n",
    "    print(f\"Log - call {count} for {city}\")\n",
    "    weather_resp=requests.get(weather_url).json()\n",
    "#    print(weather_resp[\"main\"][\"temp_max\"])\n",
    "    count+=1\n",
    "    try:\n",
    "        city_df.loc[city,\"Lat\"]=weather_resp[\"coord\"][\"lat\"]\n",
    "        city_df.loc[city,\"Lng\"]=weather_resp[\"coord\"][\"lon\"]\n",
    "        city_df.loc[city,\"Max_Temp\"]=weather_resp[\"main\"][\"temp_max\"]\n",
    "        city_df.loc[city,\"Humidity\"]=weather_resp[\"main\"][\"humidity\"]\n",
    "        city_df.loc[city,\"Cloudiness\"]=weather_resp[\"clouds\"][\"all\"]\n",
    "        city_df.loc[city,\"Wind_Speed\"]=weather_resp[\"wind\"][\"speed\"]\n",
    "        city_df.loc[city,\"Country\"]=weather_resp[\"sys\"][\"country\"]\n",
    "        city_df.loc[city,\"Date\"]=weather_resp[\"dt\"]\n",
    "    except:\n",
    "        print(f\"Issue with city {city}.\", end=\" \")  #change end so it's not a new line\n",
    "        city_df.loc[city,\"Lat\"]=\"NoDataFound\"\n",
    "        try:\n",
    "            print(\"API message: \"+weather_resp[\"message\"])  #if the API returned an error it'll be here\n",
    "        except:\n",
    "            print(\" \")   #if no message data found, print something to get a newline for next log statement\n",
    "\n",
    "#    break  testing break \n",
    "    # Add a sleep interval between queries to stay within API query limits\n",
    "    time.sleep(1)\n",
    "    \n",
    "#city_df.head()   "
   ]
  },
  {
   "cell_type": "markdown",
   "metadata": {},
   "source": [
    "### Convert Raw Data to DataFrame\n",
    "* Export the city data into a .csv.\n",
    "* Display the DataFrame"
   ]
  },
  {
   "cell_type": "code",
   "execution_count": 15,
   "metadata": {},
   "outputs": [],
   "source": [
    "#remove the rows where the city wasn't found by the weather api\n",
    "city_df=city_df.loc[city_df[\"Lat\"]!='NoDataFound']\n",
    "\n",
    "#redo the index so there's a continous number iterator for the first value of each row of the csv\n",
    "city_df = city_df.reset_index()\n",
    "city_df.index.name=\"City_ID\""
   ]
  },
  {
   "cell_type": "code",
   "execution_count": 16,
   "metadata": {},
   "outputs": [
    {
     "data": {
      "text/html": [
       "<div>\n",
       "<style scoped>\n",
       "    .dataframe tbody tr th:only-of-type {\n",
       "        vertical-align: middle;\n",
       "    }\n",
       "\n",
       "    .dataframe tbody tr th {\n",
       "        vertical-align: top;\n",
       "    }\n",
       "\n",
       "    .dataframe thead th {\n",
       "        text-align: right;\n",
       "    }\n",
       "</style>\n",
       "<table border=\"1\" class=\"dataframe\">\n",
       "  <thead>\n",
       "    <tr style=\"text-align: right;\">\n",
       "      <th></th>\n",
       "      <th>City</th>\n",
       "      <th>Cloudiness</th>\n",
       "      <th>Country</th>\n",
       "      <th>Date</th>\n",
       "      <th>Humidity</th>\n",
       "      <th>Lat</th>\n",
       "      <th>Lng</th>\n",
       "      <th>Max_Temp</th>\n",
       "      <th>Wind_Speed</th>\n",
       "    </tr>\n",
       "    <tr>\n",
       "      <th>City_ID</th>\n",
       "      <th></th>\n",
       "      <th></th>\n",
       "      <th></th>\n",
       "      <th></th>\n",
       "      <th></th>\n",
       "      <th></th>\n",
       "      <th></th>\n",
       "      <th></th>\n",
       "      <th></th>\n",
       "    </tr>\n",
       "  </thead>\n",
       "  <tbody>\n",
       "    <tr>\n",
       "      <th>0</th>\n",
       "      <td>yellowknife</td>\n",
       "      <td>1</td>\n",
       "      <td>CA</td>\n",
       "      <td>1612722042</td>\n",
       "      <td>66</td>\n",
       "      <td>62.456</td>\n",
       "      <td>-114.353</td>\n",
       "      <td>-40</td>\n",
       "      <td>5.75</td>\n",
       "    </tr>\n",
       "    <tr>\n",
       "      <th>1</th>\n",
       "      <td>wuxue</td>\n",
       "      <td>100</td>\n",
       "      <td>CN</td>\n",
       "      <td>1612722305</td>\n",
       "      <td>90</td>\n",
       "      <td>29.8506</td>\n",
       "      <td>115.552</td>\n",
       "      <td>51.66</td>\n",
       "      <td>3.22</td>\n",
       "    </tr>\n",
       "    <tr>\n",
       "      <th>2</th>\n",
       "      <td>shamkhal</td>\n",
       "      <td>90</td>\n",
       "      <td>RU</td>\n",
       "      <td>1612722306</td>\n",
       "      <td>80</td>\n",
       "      <td>43.0596</td>\n",
       "      <td>47.3373</td>\n",
       "      <td>32</td>\n",
       "      <td>17.9</td>\n",
       "    </tr>\n",
       "    <tr>\n",
       "      <th>3</th>\n",
       "      <td>vaini</td>\n",
       "      <td>75</td>\n",
       "      <td>TO</td>\n",
       "      <td>1612722306</td>\n",
       "      <td>89</td>\n",
       "      <td>-21.2</td>\n",
       "      <td>-175.2</td>\n",
       "      <td>78.8</td>\n",
       "      <td>12.66</td>\n",
       "    </tr>\n",
       "    <tr>\n",
       "      <th>4</th>\n",
       "      <td>esperance</td>\n",
       "      <td>75</td>\n",
       "      <td>AU</td>\n",
       "      <td>1612722307</td>\n",
       "      <td>88</td>\n",
       "      <td>-33.8667</td>\n",
       "      <td>121.9</td>\n",
       "      <td>62.6</td>\n",
       "      <td>11.5</td>\n",
       "    </tr>\n",
       "  </tbody>\n",
       "</table>\n",
       "</div>"
      ],
      "text/plain": [
       "                City Cloudiness Country        Date Humidity      Lat  \\\n",
       "City_ID                                                                 \n",
       "0        yellowknife          1      CA  1612722042       66   62.456   \n",
       "1              wuxue        100      CN  1612722305       90  29.8506   \n",
       "2           shamkhal         90      RU  1612722306       80  43.0596   \n",
       "3              vaini         75      TO  1612722306       89    -21.2   \n",
       "4          esperance         75      AU  1612722307       88 -33.8667   \n",
       "\n",
       "             Lng Max_Temp Wind_Speed  \n",
       "City_ID                               \n",
       "0       -114.353      -40       5.75  \n",
       "1        115.552    51.66       3.22  \n",
       "2        47.3373       32       17.9  \n",
       "3         -175.2     78.8      12.66  \n",
       "4          121.9     62.6       11.5  "
      ]
     },
     "execution_count": 16,
     "metadata": {},
     "output_type": "execute_result"
    }
   ],
   "source": [
    "# reindexed 2x so need to drop unneeded column\n",
    "#del city_df[\"City_ID\"]\n",
    "\n",
    "# reorder columns\n",
    "city_df=city_df[[\"City\",\"Cloudiness\",\"Country\",\"Date\",\"Humidity\",\"Lat\",\"Lng\",\"Max_Temp\",\"Wind_Speed\"]]\n",
    "city_df.to_csv(\"../output_data/cities.csv\", index=True)\n",
    "\n",
    "city_df.head()"
   ]
  },
  {
   "cell_type": "code",
   "execution_count": 21,
   "metadata": {},
   "outputs": [
    {
     "data": {
      "text/plain": [
       "(526, 9)"
      ]
     },
     "execution_count": 21,
     "metadata": {},
     "output_type": "execute_result"
    }
   ],
   "source": [
    "#fix stuff.  Ran population 2x and acdentally added a bunch of stuff to the df (todo Double check this so won't happen in future)\n",
    "#city_df = city_df.loc[0:525]\n",
    "city_df.shape"
   ]
  },
  {
   "cell_type": "code",
   "execution_count": 61,
   "metadata": {},
   "outputs": [
    {
     "name": "stdout",
     "output_type": "stream",
     "text": [
      "              Lat         Lng    Max_Temp    Humidity  Cloudiness  Wind_Speed  \\\n",
      "count  526.000000  526.000000  526.000000  526.000000  526.000000  526.000000   \n",
      "mean    19.967523   21.157024   50.524981   72.441065   54.682510    8.916540   \n",
      "std     33.439177   89.184007   32.239489   19.409653   37.313293    6.341623   \n",
      "min    -54.800000 -175.200000  -43.600000    9.000000    0.000000    0.270000   \n",
      "max     78.218600  179.316700   95.360000  100.000000  100.000000   47.180000   \n",
      "\n",
      "               Date  \n",
      "count  5.260000e+02  \n",
      "mean   1.612722e+09  \n",
      "std    7.617374e+01  \n",
      "min    1.612722e+09  \n",
      "max    1.612722e+09  \n"
     ]
    },
    {
     "data": {
      "text/html": [
       "<div>\n",
       "<style scoped>\n",
       "    .dataframe tbody tr th:only-of-type {\n",
       "        vertical-align: middle;\n",
       "    }\n",
       "\n",
       "    .dataframe tbody tr th {\n",
       "        vertical-align: top;\n",
       "    }\n",
       "\n",
       "    .dataframe thead th {\n",
       "        text-align: right;\n",
       "    }\n",
       "</style>\n",
       "<table border=\"1\" class=\"dataframe\">\n",
       "  <thead>\n",
       "    <tr style=\"text-align: right;\">\n",
       "      <th></th>\n",
       "      <th>Lat</th>\n",
       "      <th>Lng</th>\n",
       "      <th>Max_Temp</th>\n",
       "      <th>Humidity</th>\n",
       "      <th>Cloudiness</th>\n",
       "      <th>Wind_Speed</th>\n",
       "      <th>Date</th>\n",
       "    </tr>\n",
       "  </thead>\n",
       "  <tbody>\n",
       "    <tr>\n",
       "      <th>0.25</th>\n",
       "      <td>-6.97110</td>\n",
       "      <td>-53.625125</td>\n",
       "      <td>28.48</td>\n",
       "      <td>63.25</td>\n",
       "      <td>20.0</td>\n",
       "      <td>4.1875</td>\n",
       "      <td>1.612722e+09</td>\n",
       "    </tr>\n",
       "    <tr>\n",
       "      <th>0.50</th>\n",
       "      <td>24.44385</td>\n",
       "      <td>21.953150</td>\n",
       "      <td>61.00</td>\n",
       "      <td>77.00</td>\n",
       "      <td>65.0</td>\n",
       "      <td>7.1950</td>\n",
       "      <td>1.612722e+09</td>\n",
       "    </tr>\n",
       "    <tr>\n",
       "      <th>0.75</th>\n",
       "      <td>49.05445</td>\n",
       "      <td>99.601950</td>\n",
       "      <td>77.73</td>\n",
       "      <td>86.00</td>\n",
       "      <td>90.0</td>\n",
       "      <td>12.2200</td>\n",
       "      <td>1.612722e+09</td>\n",
       "    </tr>\n",
       "  </tbody>\n",
       "</table>\n",
       "</div>"
      ],
      "text/plain": [
       "           Lat        Lng  Max_Temp  Humidity  Cloudiness  Wind_Speed  \\\n",
       "0.25  -6.97110 -53.625125     28.48     63.25        20.0      4.1875   \n",
       "0.50  24.44385  21.953150     61.00     77.00        65.0      7.1950   \n",
       "0.75  49.05445  99.601950     77.73     86.00        90.0     12.2200   \n",
       "\n",
       "              Date  \n",
       "0.25  1.612722e+09  \n",
       "0.50  1.612722e+09  \n",
       "0.75  1.612722e+09  "
      ]
     },
     "execution_count": 61,
     "metadata": {},
     "output_type": "execute_result"
    }
   ],
   "source": [
    "aggSummStats = city_df[[\"Lat\",\"Lng\",\"Max_Temp\",\"Humidity\",\"Cloudiness\",\"Wind_Speed\",\"Date\"]].agg([\"count\",\"mean\",\"std\",\"min\"#,\"std\",\"sem\",\"sem\"   #need to add quartile stuff here\n",
    "                            ,\"max\"])\n",
    "quantiles = city_df[[\"Lat\",\"Lng\",\"Max_Temp\",\"Humidity\",\"Cloudiness\",\"Wind_Speed\",\"Date\"]].quantile([.25,.5,.75])\n",
    "\n"
   ]
  },
  {
   "cell_type": "code",
   "execution_count": 71,
   "metadata": {},
   "outputs": [
    {
     "data": {
      "text/html": [
       "<div>\n",
       "<style scoped>\n",
       "    .dataframe tbody tr th:only-of-type {\n",
       "        vertical-align: middle;\n",
       "    }\n",
       "\n",
       "    .dataframe tbody tr th {\n",
       "        vertical-align: top;\n",
       "    }\n",
       "\n",
       "    .dataframe thead th {\n",
       "        text-align: right;\n",
       "    }\n",
       "</style>\n",
       "<table border=\"1\" class=\"dataframe\">\n",
       "  <thead>\n",
       "    <tr style=\"text-align: right;\">\n",
       "      <th></th>\n",
       "      <th>Lat</th>\n",
       "      <th>Lng</th>\n",
       "      <th>Max_Temp</th>\n",
       "      <th>Humidity</th>\n",
       "      <th>Cloudiness</th>\n",
       "      <th>Wind_Speed</th>\n",
       "      <th>Date</th>\n",
       "    </tr>\n",
       "  </thead>\n",
       "  <tbody>\n",
       "    <tr>\n",
       "      <th>count</th>\n",
       "      <td>526.000000</td>\n",
       "      <td>526.000000</td>\n",
       "      <td>526.000000</td>\n",
       "      <td>526.000000</td>\n",
       "      <td>526.000000</td>\n",
       "      <td>526.000000</td>\n",
       "      <td>5.260000e+02</td>\n",
       "    </tr>\n",
       "    <tr>\n",
       "      <th>mean</th>\n",
       "      <td>19.967523</td>\n",
       "      <td>21.157024</td>\n",
       "      <td>50.524981</td>\n",
       "      <td>72.441065</td>\n",
       "      <td>54.682510</td>\n",
       "      <td>8.916540</td>\n",
       "      <td>1.612722e+09</td>\n",
       "    </tr>\n",
       "    <tr>\n",
       "      <th>std</th>\n",
       "      <td>33.439177</td>\n",
       "      <td>89.184007</td>\n",
       "      <td>32.239489</td>\n",
       "      <td>19.409653</td>\n",
       "      <td>37.313293</td>\n",
       "      <td>6.341623</td>\n",
       "      <td>7.617374e+01</td>\n",
       "    </tr>\n",
       "    <tr>\n",
       "      <th>min</th>\n",
       "      <td>-54.800000</td>\n",
       "      <td>-175.200000</td>\n",
       "      <td>-43.600000</td>\n",
       "      <td>9.000000</td>\n",
       "      <td>0.000000</td>\n",
       "      <td>0.270000</td>\n",
       "      <td>1.612722e+09</td>\n",
       "    </tr>\n",
       "    <tr>\n",
       "      <th>max</th>\n",
       "      <td>78.218600</td>\n",
       "      <td>179.316700</td>\n",
       "      <td>95.360000</td>\n",
       "      <td>100.000000</td>\n",
       "      <td>100.000000</td>\n",
       "      <td>47.180000</td>\n",
       "      <td>1.612722e+09</td>\n",
       "    </tr>\n",
       "    <tr>\n",
       "      <th>0.25</th>\n",
       "      <td>-6.971100</td>\n",
       "      <td>-53.625125</td>\n",
       "      <td>28.480000</td>\n",
       "      <td>63.250000</td>\n",
       "      <td>20.000000</td>\n",
       "      <td>4.187500</td>\n",
       "      <td>1.612722e+09</td>\n",
       "    </tr>\n",
       "    <tr>\n",
       "      <th>0.5</th>\n",
       "      <td>24.443850</td>\n",
       "      <td>21.953150</td>\n",
       "      <td>61.000000</td>\n",
       "      <td>77.000000</td>\n",
       "      <td>65.000000</td>\n",
       "      <td>7.195000</td>\n",
       "      <td>1.612722e+09</td>\n",
       "    </tr>\n",
       "    <tr>\n",
       "      <th>0.75</th>\n",
       "      <td>49.054450</td>\n",
       "      <td>99.601950</td>\n",
       "      <td>77.730000</td>\n",
       "      <td>86.000000</td>\n",
       "      <td>90.000000</td>\n",
       "      <td>12.220000</td>\n",
       "      <td>1.612722e+09</td>\n",
       "    </tr>\n",
       "  </tbody>\n",
       "</table>\n",
       "</div>"
      ],
      "text/plain": [
       "              Lat         Lng    Max_Temp    Humidity  Cloudiness  Wind_Speed  \\\n",
       "count  526.000000  526.000000  526.000000  526.000000  526.000000  526.000000   \n",
       "mean    19.967523   21.157024   50.524981   72.441065   54.682510    8.916540   \n",
       "std     33.439177   89.184007   32.239489   19.409653   37.313293    6.341623   \n",
       "min    -54.800000 -175.200000  -43.600000    9.000000    0.000000    0.270000   \n",
       "max     78.218600  179.316700   95.360000  100.000000  100.000000   47.180000   \n",
       "0.25    -6.971100  -53.625125   28.480000   63.250000   20.000000    4.187500   \n",
       "0.5     24.443850   21.953150   61.000000   77.000000   65.000000    7.195000   \n",
       "0.75    49.054450   99.601950   77.730000   86.000000   90.000000   12.220000   \n",
       "\n",
       "               Date  \n",
       "count  5.260000e+02  \n",
       "mean   1.612722e+09  \n",
       "std    7.617374e+01  \n",
       "min    1.612722e+09  \n",
       "max    1.612722e+09  \n",
       "0.25   1.612722e+09  \n",
       "0.5    1.612722e+09  \n",
       "0.75   1.612722e+09  "
      ]
     },
     "execution_count": 71,
     "metadata": {},
     "output_type": "execute_result"
    }
   ],
   "source": [
    "#quantiles = city_df[[\"Lat\",\"Lng\",\"Max_Temp\",\"Humidity\",\"Cloudiness\",\"Wind_Speed\",\"Date\"]].quantile([.25,.5,.75])\n",
    "summStats=aggSummStats.append(quantiles)\n",
    "\n",
    "summStats"
   ]
  },
  {
   "cell_type": "code",
   "execution_count": 16,
   "metadata": {},
   "outputs": [
    {
     "data": {
      "text/html": [
       "<div>\n",
       "<style scoped>\n",
       "    .dataframe tbody tr th:only-of-type {\n",
       "        vertical-align: middle;\n",
       "    }\n",
       "\n",
       "    .dataframe tbody tr th {\n",
       "        vertical-align: top;\n",
       "    }\n",
       "\n",
       "    .dataframe thead th {\n",
       "        text-align: right;\n",
       "    }\n",
       "</style>\n",
       "<table border=\"1\" class=\"dataframe\">\n",
       "  <thead>\n",
       "    <tr style=\"text-align: right;\">\n",
       "      <th></th>\n",
       "      <th>Lat</th>\n",
       "      <th>Lng</th>\n",
       "      <th>Max Temp</th>\n",
       "      <th>Humidity</th>\n",
       "      <th>Cloudiness</th>\n",
       "      <th>Wind Speed</th>\n",
       "      <th>Date</th>\n",
       "    </tr>\n",
       "  </thead>\n",
       "  <tbody>\n",
       "    <tr>\n",
       "      <td>count</td>\n",
       "      <td>599.000000</td>\n",
       "      <td>599.000000</td>\n",
       "      <td>599.000000</td>\n",
       "      <td>599.000000</td>\n",
       "      <td>599.000000</td>\n",
       "      <td>599.000000</td>\n",
       "      <td>5.990000e+02</td>\n",
       "    </tr>\n",
       "    <tr>\n",
       "      <td>mean</td>\n",
       "      <td>19.877028</td>\n",
       "      <td>19.568998</td>\n",
       "      <td>69.794808</td>\n",
       "      <td>69.353923</td>\n",
       "      <td>51.569282</td>\n",
       "      <td>7.979416</td>\n",
       "      <td>1.593605e+09</td>\n",
       "    </tr>\n",
       "    <tr>\n",
       "      <td>std</td>\n",
       "      <td>33.262944</td>\n",
       "      <td>91.418472</td>\n",
       "      <td>15.678452</td>\n",
       "      <td>22.704698</td>\n",
       "      <td>35.405602</td>\n",
       "      <td>5.660694</td>\n",
       "      <td>5.738815e+01</td>\n",
       "    </tr>\n",
       "    <tr>\n",
       "      <td>min</td>\n",
       "      <td>-54.800000</td>\n",
       "      <td>-179.170000</td>\n",
       "      <td>12.200000</td>\n",
       "      <td>7.000000</td>\n",
       "      <td>0.000000</td>\n",
       "      <td>0.360000</td>\n",
       "      <td>1.593605e+09</td>\n",
       "    </tr>\n",
       "    <tr>\n",
       "      <td>25%</td>\n",
       "      <td>-8.540000</td>\n",
       "      <td>-61.210000</td>\n",
       "      <td>59.000000</td>\n",
       "      <td>55.000000</td>\n",
       "      <td>20.000000</td>\n",
       "      <td>3.620000</td>\n",
       "      <td>1.593605e+09</td>\n",
       "    </tr>\n",
       "    <tr>\n",
       "      <td>50%</td>\n",
       "      <td>24.370000</td>\n",
       "      <td>24.670000</td>\n",
       "      <td>73.110000</td>\n",
       "      <td>75.000000</td>\n",
       "      <td>59.000000</td>\n",
       "      <td>6.730000</td>\n",
       "      <td>1.593605e+09</td>\n",
       "    </tr>\n",
       "    <tr>\n",
       "      <td>75%</td>\n",
       "      <td>46.585000</td>\n",
       "      <td>102.255000</td>\n",
       "      <td>80.600000</td>\n",
       "      <td>87.000000</td>\n",
       "      <td>85.000000</td>\n",
       "      <td>11.050000</td>\n",
       "      <td>1.593605e+09</td>\n",
       "    </tr>\n",
       "    <tr>\n",
       "      <td>max</td>\n",
       "      <td>78.220000</td>\n",
       "      <td>179.320000</td>\n",
       "      <td>116.600000</td>\n",
       "      <td>100.000000</td>\n",
       "      <td>100.000000</td>\n",
       "      <td>42.500000</td>\n",
       "      <td>1.593605e+09</td>\n",
       "    </tr>\n",
       "  </tbody>\n",
       "</table>\n",
       "</div>"
      ],
      "text/plain": [
       "              Lat         Lng    Max Temp    Humidity  Cloudiness  Wind Speed  \\\n",
       "count  599.000000  599.000000  599.000000  599.000000  599.000000  599.000000   \n",
       "mean    19.877028   19.568998   69.794808   69.353923   51.569282    7.979416   \n",
       "std     33.262944   91.418472   15.678452   22.704698   35.405602    5.660694   \n",
       "min    -54.800000 -179.170000   12.200000    7.000000    0.000000    0.360000   \n",
       "25%     -8.540000  -61.210000   59.000000   55.000000   20.000000    3.620000   \n",
       "50%     24.370000   24.670000   73.110000   75.000000   59.000000    6.730000   \n",
       "75%     46.585000  102.255000   80.600000   87.000000   85.000000   11.050000   \n",
       "max     78.220000  179.320000  116.600000  100.000000  100.000000   42.500000   \n",
       "\n",
       "               Date  \n",
       "count  5.990000e+02  \n",
       "mean   1.593605e+09  \n",
       "std    5.738815e+01  \n",
       "min    1.593605e+09  \n",
       "25%    1.593605e+09  \n",
       "50%    1.593605e+09  \n",
       "75%    1.593605e+09  \n",
       "max    1.593605e+09  "
      ]
     },
     "execution_count": 16,
     "metadata": {},
     "output_type": "execute_result"
    }
   ],
   "source": []
  },
  {
   "cell_type": "markdown",
   "metadata": {},
   "source": [
    "## Inspect the data and remove the cities where the humidity > 100%.\n",
    "----\n",
    "Skip this step if there are no cities that have humidity > 100%. "
   ]
  },
  {
   "cell_type": "code",
   "execution_count": 73,
   "metadata": {},
   "outputs": [
    {
     "data": {
      "text/html": [
       "<div>\n",
       "<style scoped>\n",
       "    .dataframe tbody tr th:only-of-type {\n",
       "        vertical-align: middle;\n",
       "    }\n",
       "\n",
       "    .dataframe tbody tr th {\n",
       "        vertical-align: top;\n",
       "    }\n",
       "\n",
       "    .dataframe thead th {\n",
       "        text-align: right;\n",
       "    }\n",
       "</style>\n",
       "<table border=\"1\" class=\"dataframe\">\n",
       "  <thead>\n",
       "    <tr style=\"text-align: right;\">\n",
       "      <th></th>\n",
       "      <th>City</th>\n",
       "      <th>Cloudiness</th>\n",
       "      <th>Country</th>\n",
       "      <th>Date</th>\n",
       "      <th>Humidity</th>\n",
       "      <th>Lat</th>\n",
       "      <th>Lng</th>\n",
       "      <th>Max_Temp</th>\n",
       "      <th>Wind_Speed</th>\n",
       "    </tr>\n",
       "    <tr>\n",
       "      <th>City_ID</th>\n",
       "      <th></th>\n",
       "      <th></th>\n",
       "      <th></th>\n",
       "      <th></th>\n",
       "      <th></th>\n",
       "      <th></th>\n",
       "      <th></th>\n",
       "      <th></th>\n",
       "      <th></th>\n",
       "    </tr>\n",
       "  </thead>\n",
       "  <tbody>\n",
       "    <tr>\n",
       "      <th>0</th>\n",
       "      <td>yellowknife</td>\n",
       "      <td>1.0</td>\n",
       "      <td>CA</td>\n",
       "      <td>1.612722e+09</td>\n",
       "      <td>66.0</td>\n",
       "      <td>62.4560</td>\n",
       "      <td>-114.3525</td>\n",
       "      <td>-40.00</td>\n",
       "      <td>5.75</td>\n",
       "    </tr>\n",
       "    <tr>\n",
       "      <th>1</th>\n",
       "      <td>wuxue</td>\n",
       "      <td>100.0</td>\n",
       "      <td>CN</td>\n",
       "      <td>1.612722e+09</td>\n",
       "      <td>90.0</td>\n",
       "      <td>29.8506</td>\n",
       "      <td>115.5525</td>\n",
       "      <td>51.66</td>\n",
       "      <td>3.22</td>\n",
       "    </tr>\n",
       "    <tr>\n",
       "      <th>2</th>\n",
       "      <td>shamkhal</td>\n",
       "      <td>90.0</td>\n",
       "      <td>RU</td>\n",
       "      <td>1.612722e+09</td>\n",
       "      <td>80.0</td>\n",
       "      <td>43.0596</td>\n",
       "      <td>47.3373</td>\n",
       "      <td>32.00</td>\n",
       "      <td>17.90</td>\n",
       "    </tr>\n",
       "    <tr>\n",
       "      <th>3</th>\n",
       "      <td>vaini</td>\n",
       "      <td>75.0</td>\n",
       "      <td>TO</td>\n",
       "      <td>1.612722e+09</td>\n",
       "      <td>89.0</td>\n",
       "      <td>-21.2000</td>\n",
       "      <td>-175.2000</td>\n",
       "      <td>78.80</td>\n",
       "      <td>12.66</td>\n",
       "    </tr>\n",
       "    <tr>\n",
       "      <th>4</th>\n",
       "      <td>esperance</td>\n",
       "      <td>75.0</td>\n",
       "      <td>AU</td>\n",
       "      <td>1.612722e+09</td>\n",
       "      <td>88.0</td>\n",
       "      <td>-33.8667</td>\n",
       "      <td>121.9000</td>\n",
       "      <td>62.60</td>\n",
       "      <td>11.50</td>\n",
       "    </tr>\n",
       "    <tr>\n",
       "      <th>...</th>\n",
       "      <td>...</td>\n",
       "      <td>...</td>\n",
       "      <td>...</td>\n",
       "      <td>...</td>\n",
       "      <td>...</td>\n",
       "      <td>...</td>\n",
       "      <td>...</td>\n",
       "      <td>...</td>\n",
       "      <td>...</td>\n",
       "    </tr>\n",
       "    <tr>\n",
       "      <th>521</th>\n",
       "      <td>abu kamal</td>\n",
       "      <td>0.0</td>\n",
       "      <td>SY</td>\n",
       "      <td>1.612722e+09</td>\n",
       "      <td>60.0</td>\n",
       "      <td>34.4506</td>\n",
       "      <td>40.9171</td>\n",
       "      <td>59.36</td>\n",
       "      <td>7.65</td>\n",
       "    </tr>\n",
       "    <tr>\n",
       "      <th>522</th>\n",
       "      <td>turka</td>\n",
       "      <td>100.0</td>\n",
       "      <td>UA</td>\n",
       "      <td>1.612722e+09</td>\n",
       "      <td>86.0</td>\n",
       "      <td>49.1541</td>\n",
       "      <td>23.0297</td>\n",
       "      <td>32.00</td>\n",
       "      <td>3.98</td>\n",
       "    </tr>\n",
       "    <tr>\n",
       "      <th>523</th>\n",
       "      <td>shagamu</td>\n",
       "      <td>86.0</td>\n",
       "      <td>NG</td>\n",
       "      <td>1.612722e+09</td>\n",
       "      <td>60.0</td>\n",
       "      <td>6.8432</td>\n",
       "      <td>3.6478</td>\n",
       "      <td>86.00</td>\n",
       "      <td>7.78</td>\n",
       "    </tr>\n",
       "    <tr>\n",
       "      <th>524</th>\n",
       "      <td>alcaniz</td>\n",
       "      <td>67.0</td>\n",
       "      <td>ES</td>\n",
       "      <td>1.612722e+09</td>\n",
       "      <td>54.0</td>\n",
       "      <td>41.0500</td>\n",
       "      <td>-0.1333</td>\n",
       "      <td>51.01</td>\n",
       "      <td>4.00</td>\n",
       "    </tr>\n",
       "    <tr>\n",
       "      <th>525</th>\n",
       "      <td>san rafael del sur</td>\n",
       "      <td>20.0</td>\n",
       "      <td>NI</td>\n",
       "      <td>1.612722e+09</td>\n",
       "      <td>43.0</td>\n",
       "      <td>11.8485</td>\n",
       "      <td>-86.4384</td>\n",
       "      <td>91.40</td>\n",
       "      <td>16.11</td>\n",
       "    </tr>\n",
       "  </tbody>\n",
       "</table>\n",
       "<p>514 rows × 9 columns</p>\n",
       "</div>"
      ],
      "text/plain": [
       "                       City  Cloudiness Country          Date  Humidity  \\\n",
       "City_ID                                                                   \n",
       "0               yellowknife         1.0      CA  1.612722e+09      66.0   \n",
       "1                     wuxue       100.0      CN  1.612722e+09      90.0   \n",
       "2                  shamkhal        90.0      RU  1.612722e+09      80.0   \n",
       "3                     vaini        75.0      TO  1.612722e+09      89.0   \n",
       "4                 esperance        75.0      AU  1.612722e+09      88.0   \n",
       "...                     ...         ...     ...           ...       ...   \n",
       "521               abu kamal         0.0      SY  1.612722e+09      60.0   \n",
       "522                   turka       100.0      UA  1.612722e+09      86.0   \n",
       "523                 shagamu        86.0      NG  1.612722e+09      60.0   \n",
       "524                 alcaniz        67.0      ES  1.612722e+09      54.0   \n",
       "525      san rafael del sur        20.0      NI  1.612722e+09      43.0   \n",
       "\n",
       "             Lat       Lng  Max_Temp  Wind_Speed  \n",
       "City_ID                                           \n",
       "0        62.4560 -114.3525    -40.00        5.75  \n",
       "1        29.8506  115.5525     51.66        3.22  \n",
       "2        43.0596   47.3373     32.00       17.90  \n",
       "3       -21.2000 -175.2000     78.80       12.66  \n",
       "4       -33.8667  121.9000     62.60       11.50  \n",
       "...          ...       ...       ...         ...  \n",
       "521      34.4506   40.9171     59.36        7.65  \n",
       "522      49.1541   23.0297     32.00        3.98  \n",
       "523       6.8432    3.6478     86.00        7.78  \n",
       "524      41.0500   -0.1333     51.01        4.00  \n",
       "525      11.8485  -86.4384     91.40       16.11  \n",
       "\n",
       "[514 rows x 9 columns]"
      ]
     },
     "execution_count": 73,
     "metadata": {},
     "output_type": "execute_result"
    }
   ],
   "source": [
    "#max Humitidy shown in summStats is 100% no values over so no cities to remove."
   ]
  },
  {
   "cell_type": "code",
   "execution_count": null,
   "metadata": {},
   "outputs": [],
   "source": [
    "\n"
   ]
  },
  {
   "cell_type": "markdown",
   "metadata": {},
   "source": [
    "## Plotting the Data\n",
    "* Use proper labeling of the plots using plot titles (including date of analysis) and axes labels.\n",
    "* Save the plotted figures as .pngs."
   ]
  },
  {
   "cell_type": "markdown",
   "metadata": {},
   "source": [
    "## Latitude vs. Temperature Plot"
   ]
  },
  {
   "cell_type": "code",
   "execution_count": 123,
   "metadata": {},
   "outputs": [
    {
     "data": {
      "image/png": "[encoded data removed]",
      "text/plain": [
       "<Figure size 432x288 with 1 Axes>"
      ]
     },
     "metadata": {
      "needs_background": "light"
     },
     "output_type": "display_data"
    },
    {
     "data": {
      "text/plain": [
       "<Figure size 432x288 with 0 Axes>"
      ]
     },
     "metadata": {},
     "output_type": "display_data"
    }
   ],
   "source": [
    "cityLats = city_df.Lat\n",
    "cityMaxTemps = city_df.Max_Temp\n",
    "plt.scatter(cityLats,cityMaxTemps,marker=\"o\",edgecolors=\"black\", facecolors=\"cornflowerblue\")\n",
    "plt.title(f\"City Latitude vs. Max Temp on {cities_df.loc[0,\"Date\"]}\")  #todo add date to title of plots\n",
    "plt.xlabel(\"City Latitude\")\n",
    "plt.ylabel(\"Max Temp (F)\")\n",
    "plt.grid(True)\n",
    "#plt.xlim(14, 26)\n",
    "#plt.ylim(34, 47)\n",
    "plt.show()\n",
    "plt.savefig('../output_data/cityLat_vs_MaxTemp.png')"
   ]
  },
  {
   "cell_type": "code",
   "execution_count": 1,
   "metadata": {},
   "outputs": [
    {
     "ename": "NameError",
     "evalue": "name 'cities_df' is not defined",
     "output_type": "error",
     "traceback": [
      "\u001b[1;31m---------------------------------------------------------------------------\u001b[0m",
      "\u001b[1;31mNameError\u001b[0m                                 Traceback (most recent call last)",
      "\u001b[1;32m<ipython-input-1-94becae71065>\u001b[0m in \u001b[0;36m<module>\u001b[1;34m\u001b[0m\n\u001b[1;32m----> 1\u001b[1;33m \u001b[0mprint\u001b[0m\u001b[1;33m(\u001b[0m\u001b[1;34mf'All plots done on date: {cities_df.loc[0,\"Date\"]}'\u001b[0m\u001b[1;33m)\u001b[0m\u001b[1;33m\u001b[0m\u001b[1;33m\u001b[0m\u001b[0m\n\u001b[0m\u001b[0;32m      2\u001b[0m \u001b[0mPrint\u001b[0m\u001b[1;33m(\u001b[0m\u001b[1;34m'Lat vs Temp shows as you get closer to the equator (0) temp goes up.  As you travel north (positive latitude) temp goes down.  Sothern hemisphere is currently in summer, nothern in winter'\u001b[0m\u001b[1;33m)\u001b[0m\u001b[1;33m\u001b[0m\u001b[1;33m\u001b[0m\u001b[0m\n\u001b[0;32m      3\u001b[0m \u001b[1;31m#todo After each plot, add a sentence or two explaining what the code is analyzing.\u001b[0m\u001b[1;33m\u001b[0m\u001b[1;33m\u001b[0m\u001b[1;33m\u001b[0m\u001b[0m\n",
      "\u001b[1;31mNameError\u001b[0m: name 'cities_df' is not defined"
     ]
    }
   ],
   "source": [
    "print(f'All plots done on date: {cities_df.loc[0,\"Date\"]}')\n",
    "Print('Lat vs Temp shows as you get closer to the equator (0) temp goes up.  As you travel north (positive latitude) temp goes down.  Sothern hemisphere is currently in summer, nothern in winter') \n",
    "#todo After each plot, add a sentence or two explaining what the code is analyzing."
   ]
  },
  {
   "cell_type": "markdown",
   "metadata": {},
   "source": [
    "## Latitude vs. Humidity Plot"
   ]
  },
  {
   "cell_type": "code",
   "execution_count": 124,
   "metadata": {},
   "outputs": [
    {
     "data": {
      "image/png": "[encoded data removed]",
      "text/plain": [
       "<Figure size 432x288 with 1 Axes>"
      ]
     },
     "metadata": {
      "needs_background": "light"
     },
     "output_type": "display_data"
    },
    {
     "data": {
      "text/plain": [
       "<Figure size 432x288 with 0 Axes>"
      ]
     },
     "metadata": {},
     "output_type": "display_data"
    }
   ],
   "source": [
    "plt.scatter(cityLats,city_df.Humidity,marker=\"o\",edgecolors=\"black\", facecolors=\"paleturquoise\")\n",
    "plt.title(\"City Latitude vs. Humidity\")\n",
    "plt.xlabel(\"City Latitude\")\n",
    "plt.ylabel(\"Humidity (%)\")\n",
    "plt.grid(True)\n",
    "#plt.xlim(14, 26)\n",
    "#plt.ylim(34, 47)\n",
    "plt.show()\n",
    "plt.savefig('../output_data/cityLat_vs_Humidity.png')"
   ]
  },
  {
   "cell_type": "markdown",
   "metadata": {},
   "source": [
    "Latitide vs Humidity shows no strong correlation."
   ]
  },
  {
   "cell_type": "markdown",
   "metadata": {},
   "source": [
    "## Latitude vs. Cloudiness Plot"
   ]
  },
  {
   "cell_type": "code",
   "execution_count": 125,
   "metadata": {},
   "outputs": [
    {
     "data": {
      "image/png": "[encoded data removed]",
      "text/plain": [
       "<Figure size 432x288 with 1 Axes>"
      ]
     },
     "metadata": {
      "needs_background": "light"
     },
     "output_type": "display_data"
    },
    {
     "data": {
      "text/plain": [
       "<Figure size 432x288 with 0 Axes>"
      ]
     },
     "metadata": {},
     "output_type": "display_data"
    }
   ],
   "source": [
    "plt.scatter(cityLats,city_df.Cloudiness,marker=\"o\",edgecolors=\"black\", facecolors=\"silver\")\n",
    "plt.title(\"City Latitude vs. Cloudiness\")\n",
    "plt.xlabel(\"City Latitude\")\n",
    "plt.ylabel(\"Cloudiness (%)\")\n",
    "plt.grid(True)\n",
    "#plt.xlim(14, 26)\n",
    "#plt.ylim(34, 47)\n",
    "plt.show()\n",
    "plt.savefig('../output_data/cityLat_vs_Cloudiness.png')"
   ]
  },
  {
   "cell_type": "markdown",
   "metadata": {},
   "source": [
    "Latitude vs Cloudiness shows no real correlation between the 2."
   ]
  },
  {
   "cell_type": "markdown",
   "metadata": {},
   "source": [
    "## Latitude vs. Wind Speed Plot"
   ]
  },
  {
   "cell_type": "code",
   "execution_count": 126,
   "metadata": {},
   "outputs": [
    {
     "data": {
      "image/png": "[encoded data removed]",
      "text/plain": [
       "<Figure size 432x288 with 1 Axes>"
      ]
     },
     "metadata": {
      "needs_background": "light"
     },
     "output_type": "display_data"
    },
    {
     "data": {
      "text/plain": [
       "<Figure size 432x288 with 0 Axes>"
      ]
     },
     "metadata": {},
     "output_type": "display_data"
    }
   ],
   "source": [
    "plt.scatter(cityLats,city_df.Wind_Speed,marker=\"o\",edgecolors=\"black\", facecolors=\"darkorange\")\n",
    "plt.title(\"City Latitude vs. Wind Speed\")\n",
    "plt.xlabel(\"City Latitude\")\n",
    "plt.ylabel(\"Wind Speed (mph)\")\n",
    "plt.grid(True)\n",
    "#plt.xlim(14, 26)\n",
    "#plt.ylim(34, 47)\n",
    "plt.show()\n",
    "plt.savefig('../output_data/cityLat_vs_Wind.png')"
   ]
  },
  {
   "cell_type": "markdown",
   "metadata": {},
   "source": [
    "Graphing Latitude vs Wind Speed shows scattering values with not dependency between the two."
   ]
  },
  {
   "cell_type": "markdown",
   "metadata": {},
   "source": [
    "## Linear Regression"
   ]
  },
  {
   "cell_type": "code",
   "execution_count": 91,
   "metadata": {},
   "outputs": [
    {
     "data": {
      "text/html": [
       "<div>\n",
       "<style scoped>\n",
       "    .dataframe tbody tr th:only-of-type {\n",
       "        vertical-align: middle;\n",
       "    }\n",
       "\n",
       "    .dataframe tbody tr th {\n",
       "        vertical-align: top;\n",
       "    }\n",
       "\n",
       "    .dataframe thead th {\n",
       "        text-align: right;\n",
       "    }\n",
       "</style>\n",
       "<table border=\"1\" class=\"dataframe\">\n",
       "  <thead>\n",
       "    <tr style=\"text-align: right;\">\n",
       "      <th></th>\n",
       "      <th>City</th>\n",
       "      <th>Cloudiness</th>\n",
       "      <th>Country</th>\n",
       "      <th>Date</th>\n",
       "      <th>Humidity</th>\n",
       "      <th>Lat</th>\n",
       "      <th>Lng</th>\n",
       "      <th>Max_Temp</th>\n",
       "      <th>Wind_Speed</th>\n",
       "    </tr>\n",
       "    <tr>\n",
       "      <th>City_ID</th>\n",
       "      <th></th>\n",
       "      <th></th>\n",
       "      <th></th>\n",
       "      <th></th>\n",
       "      <th></th>\n",
       "      <th></th>\n",
       "      <th></th>\n",
       "      <th></th>\n",
       "      <th></th>\n",
       "    </tr>\n",
       "  </thead>\n",
       "  <tbody>\n",
       "    <tr>\n",
       "      <th>3</th>\n",
       "      <td>vaini</td>\n",
       "      <td>75.0</td>\n",
       "      <td>TO</td>\n",
       "      <td>1.612722e+09</td>\n",
       "      <td>89.0</td>\n",
       "      <td>-21.2000</td>\n",
       "      <td>-175.2000</td>\n",
       "      <td>78.80</td>\n",
       "      <td>12.66</td>\n",
       "    </tr>\n",
       "    <tr>\n",
       "      <th>4</th>\n",
       "      <td>esperance</td>\n",
       "      <td>75.0</td>\n",
       "      <td>AU</td>\n",
       "      <td>1.612722e+09</td>\n",
       "      <td>88.0</td>\n",
       "      <td>-33.8667</td>\n",
       "      <td>121.9000</td>\n",
       "      <td>62.60</td>\n",
       "      <td>11.50</td>\n",
       "    </tr>\n",
       "    <tr>\n",
       "      <th>5</th>\n",
       "      <td>busselton</td>\n",
       "      <td>99.0</td>\n",
       "      <td>AU</td>\n",
       "      <td>1.612722e+09</td>\n",
       "      <td>99.0</td>\n",
       "      <td>-33.6500</td>\n",
       "      <td>115.3333</td>\n",
       "      <td>64.00</td>\n",
       "      <td>9.86</td>\n",
       "    </tr>\n",
       "    <tr>\n",
       "      <th>6</th>\n",
       "      <td>byron bay</td>\n",
       "      <td>75.0</td>\n",
       "      <td>AU</td>\n",
       "      <td>1.612722e+09</td>\n",
       "      <td>78.0</td>\n",
       "      <td>-28.6500</td>\n",
       "      <td>153.6167</td>\n",
       "      <td>75.20</td>\n",
       "      <td>10.36</td>\n",
       "    </tr>\n",
       "    <tr>\n",
       "      <th>8</th>\n",
       "      <td>cape town</td>\n",
       "      <td>0.0</td>\n",
       "      <td>ZA</td>\n",
       "      <td>1.612722e+09</td>\n",
       "      <td>60.0</td>\n",
       "      <td>-33.9258</td>\n",
       "      <td>18.4232</td>\n",
       "      <td>69.01</td>\n",
       "      <td>25.32</td>\n",
       "    </tr>\n",
       "    <tr>\n",
       "      <th>...</th>\n",
       "      <td>...</td>\n",
       "      <td>...</td>\n",
       "      <td>...</td>\n",
       "      <td>...</td>\n",
       "      <td>...</td>\n",
       "      <td>...</td>\n",
       "      <td>...</td>\n",
       "      <td>...</td>\n",
       "      <td>...</td>\n",
       "    </tr>\n",
       "    <tr>\n",
       "      <th>504</th>\n",
       "      <td>sainte-marie</td>\n",
       "      <td>20.0</td>\n",
       "      <td>RE</td>\n",
       "      <td>1.612722e+09</td>\n",
       "      <td>65.0</td>\n",
       "      <td>-20.8968</td>\n",
       "      <td>55.5496</td>\n",
       "      <td>78.80</td>\n",
       "      <td>3.44</td>\n",
       "    </tr>\n",
       "    <tr>\n",
       "      <th>510</th>\n",
       "      <td>barbosa ferraz</td>\n",
       "      <td>40.0</td>\n",
       "      <td>BR</td>\n",
       "      <td>1.612722e+09</td>\n",
       "      <td>54.0</td>\n",
       "      <td>-24.0300</td>\n",
       "      <td>-52.0117</td>\n",
       "      <td>82.40</td>\n",
       "      <td>6.91</td>\n",
       "    </tr>\n",
       "    <tr>\n",
       "      <th>513</th>\n",
       "      <td>concepcion del uruguay</td>\n",
       "      <td>0.0</td>\n",
       "      <td>AR</td>\n",
       "      <td>1.612722e+09</td>\n",
       "      <td>35.0</td>\n",
       "      <td>-32.4825</td>\n",
       "      <td>-58.2372</td>\n",
       "      <td>93.00</td>\n",
       "      <td>1.01</td>\n",
       "    </tr>\n",
       "    <tr>\n",
       "      <th>514</th>\n",
       "      <td>aguas vermelhas</td>\n",
       "      <td>100.0</td>\n",
       "      <td>BR</td>\n",
       "      <td>1.612722e+09</td>\n",
       "      <td>61.0</td>\n",
       "      <td>-15.7472</td>\n",
       "      <td>-41.4600</td>\n",
       "      <td>78.62</td>\n",
       "      <td>7.38</td>\n",
       "    </tr>\n",
       "    <tr>\n",
       "      <th>517</th>\n",
       "      <td>gizo</td>\n",
       "      <td>49.0</td>\n",
       "      <td>SB</td>\n",
       "      <td>1.612722e+09</td>\n",
       "      <td>79.0</td>\n",
       "      <td>-8.1030</td>\n",
       "      <td>156.8419</td>\n",
       "      <td>82.31</td>\n",
       "      <td>10.63</td>\n",
       "    </tr>\n",
       "  </tbody>\n",
       "</table>\n",
       "<p>168 rows × 9 columns</p>\n",
       "</div>"
      ],
      "text/plain": [
       "                           City  Cloudiness Country          Date  Humidity  \\\n",
       "City_ID                                                                       \n",
       "3                         vaini        75.0      TO  1.612722e+09      89.0   \n",
       "4                     esperance        75.0      AU  1.612722e+09      88.0   \n",
       "5                     busselton        99.0      AU  1.612722e+09      99.0   \n",
       "6                     byron bay        75.0      AU  1.612722e+09      78.0   \n",
       "8                     cape town         0.0      ZA  1.612722e+09      60.0   \n",
       "...                         ...         ...     ...           ...       ...   \n",
       "504                sainte-marie        20.0      RE  1.612722e+09      65.0   \n",
       "510              barbosa ferraz        40.0      BR  1.612722e+09      54.0   \n",
       "513      concepcion del uruguay         0.0      AR  1.612722e+09      35.0   \n",
       "514             aguas vermelhas       100.0      BR  1.612722e+09      61.0   \n",
       "517                        gizo        49.0      SB  1.612722e+09      79.0   \n",
       "\n",
       "             Lat       Lng  Max_Temp  Wind_Speed  \n",
       "City_ID                                           \n",
       "3       -21.2000 -175.2000     78.80       12.66  \n",
       "4       -33.8667  121.9000     62.60       11.50  \n",
       "5       -33.6500  115.3333     64.00        9.86  \n",
       "6       -28.6500  153.6167     75.20       10.36  \n",
       "8       -33.9258   18.4232     69.01       25.32  \n",
       "...          ...       ...       ...         ...  \n",
       "504     -20.8968   55.5496     78.80        3.44  \n",
       "510     -24.0300  -52.0117     82.40        6.91  \n",
       "513     -32.4825  -58.2372     93.00        1.01  \n",
       "514     -15.7472  -41.4600     78.62        7.38  \n",
       "517      -8.1030  156.8419     82.31       10.63  \n",
       "\n",
       "[168 rows x 9 columns]"
      ]
     },
     "execution_count": 91,
     "metadata": {},
     "output_type": "execute_result"
    }
   ],
   "source": [
    "northern_cities=city_df.loc[city_df.Lat>=0]\n",
    "southern_cities=city_df.loc[city_df.Lat< 0]\n"
   ]
  },
  {
   "cell_type": "markdown",
   "metadata": {},
   "source": [
    "####  Northern Hemisphere - Max Temp vs. Latitude Linear Regression"
   ]
  },
  {
   "cell_type": "code",
   "execution_count": 128,
   "metadata": {},
   "outputs": [
    {
     "name": "stdout",
     "output_type": "stream",
     "text": [
      "rValue: -0.8742069522468753\n"
     ]
    },
    {
     "data": {
      "image/png": "[encoded data removed]",
      "text/plain": [
       "<Figure size 432x288 with 1 Axes>"
      ]
     },
     "metadata": {
      "needs_background": "light"
     },
     "output_type": "display_data"
    },
    {
     "data": {
      "text/plain": [
       "<Figure size 432x288 with 0 Axes>"
      ]
     },
     "metadata": {},
     "output_type": "display_data"
    }
   ],
   "source": [
    "northx_axis=northern_cities.Lat\n",
    "plt.scatter(northx_axis,northern_cities.Max_Temp,marker=\"o\", facecolors=\"cornflowerblue\")\n",
    "(slope, intercept, rvalue, pvalue, stderr) = linregress(northx_axis,northern_cities.Max_Temp)\n",
    "\n",
    "print(f'rValue: {rvalue}')\n",
    "#eq of a line y=mx+b\n",
    "regress_values = slope*northx_axis  + intercept\n",
    "line_eq = \"y = \" + str(round(slope,2)) + \"x + \" + str(round(intercept,2))\n",
    "\n",
    "plt.plot(northx_axis,regress_values,\"r-\")\n",
    "plt.annotate(line_eq,(0,-40),fontsize=15,color=\"red\")\n",
    "\n",
    "\n",
    "plt.title(\"Northern City Latitude vs. Max Temp\")\n",
    "plt.xlabel(\"Latitude\")\n",
    "plt.ylabel(\"Max Temp (F)\")\n",
    "#plt.grid(True)\n",
    "\n",
    "plt.show()\n",
    "plt.savefig('../output_data/northLat_vs_MaxTemp.png')"
   ]
  },
  {
   "cell_type": "markdown",
   "metadata": {},
   "source": [
    "Graph displays strong negative correlation.  In the northern hemisphere, as latitude goes up (traveling North away from the equator), the temperature goes down."
   ]
  },
  {
   "cell_type": "code",
   "execution_count": 25,
   "metadata": {},
   "outputs": [
    {
     "name": "stdout",
     "output_type": "stream",
     "text": [
      "The r-value is: 0.46937863826630627\n"
     ]
    },
    {
     "data": {
      "image/png": "[encoded data removed]",
      "text/plain": [
       "<Figure size 432x288 with 1 Axes>"
      ]
     },
     "metadata": {
      "needs_background": "light"
     },
     "output_type": "display_data"
    }
   ],
   "source": []
  },
  {
   "cell_type": "markdown",
   "metadata": {},
   "source": [
    "####  Southern Hemisphere - Max Temp vs. Latitude Linear Regression"
   ]
  },
  {
   "cell_type": "code",
   "execution_count": 129,
   "metadata": {},
   "outputs": [
    {
     "name": "stdout",
     "output_type": "stream",
     "text": [
      "rValue: 0.6666647664155895\n"
     ]
    },
    {
     "data": {
      "image/png": "[encoded data removed]",
      "text/plain": [
       "<Figure size 432x288 with 1 Axes>"
      ]
     },
     "metadata": {
      "needs_background": "light"
     },
     "output_type": "display_data"
    },
    {
     "data": {
      "text/plain": [
       "<Figure size 432x288 with 0 Axes>"
      ]
     },
     "metadata": {},
     "output_type": "display_data"
    }
   ],
   "source": [
    "southx_axis=southern_cities.Lat\n",
    "plt.scatter(southx_axis,southern_cities.Max_Temp,marker=\"o\", facecolors=\"cornflowerblue\")\n",
    "(slope, intercept, rvalue, pvalue, stderr) = linregress(southx_axis,southern_cities.Max_Temp)\n",
    "\n",
    "print(f'rValue: {rvalue}')\n",
    "#eq of a line y=mx+b\n",
    "regress_values = slope*southx_axis  + intercept\n",
    "line_eq = \"y = \" + str(round(slope,2)) + \"x + \" + str(round(intercept,2))\n",
    "\n",
    "plt.plot(southx_axis,regress_values,\"r-\")\n",
    "plt.annotate(line_eq,(-55,85),fontsize=15,color=\"red\")\n",
    "\n",
    "\n",
    "plt.title(\"Southern City Latitude vs. Max Temp\")\n",
    "plt.xlabel(\"Latitude\")\n",
    "plt.ylabel(\"Max Temp (F)\")\n",
    "\n",
    "\n",
    "plt.show()\n",
    "plt.savefig('../output_data/southLat_vs_MaxTemp.png')"
   ]
  },
  {
   "cell_type": "markdown",
   "metadata": {},
   "source": [
    "Plot shows a slightly less strong temp to latitude correlation when compared to the northern cities (.86 vs .66)\n",
    "There's a decent positive correlation in the southern hemisphere as you travel towards the equator the temperature rises."
   ]
  },
  {
   "cell_type": "markdown",
   "metadata": {},
   "source": [
    "####  Northern Hemisphere - Humidity (%) vs. Latitude Linear Regression"
   ]
  },
  {
   "cell_type": "code",
   "execution_count": 130,
   "metadata": {},
   "outputs": [
    {
     "name": "stdout",
     "output_type": "stream",
     "text": [
      "rValue: 0.29673467411894183\n"
     ]
    },
    {
     "data": {
      "image/png": "[encoded data removed]",
      "text/plain": [
       "<Figure size 432x288 with 1 Axes>"
      ]
     },
     "metadata": {
      "needs_background": "light"
     },
     "output_type": "display_data"
    },
    {
     "data": {
      "text/plain": [
       "<Figure size 432x288 with 0 Axes>"
      ]
     },
     "metadata": {},
     "output_type": "display_data"
    }
   ],
   "source": [
    "plt.scatter(northx_axis,northern_cities.Humidity,marker=\"o\", facecolors=\"cornflowerblue\")\n",
    "(slope, intercept, rvalue, pvalue, stderr) = linregress(northx_axis,northern_cities.Humidity)\n",
    "\n",
    "print(f'rValue: {rvalue}')\n",
    "#eq of a line y=mx+b\n",
    "regress_values = slope*northx_axis  + intercept\n",
    "line_eq = \"y = \" + str(round(slope,2)) + \"x + \" + str(round(intercept,2))\n",
    "\n",
    "plt.plot(northx_axis,regress_values,\"r-\")\n",
    "plt.annotate(line_eq,(45,10),fontsize=15,color=\"red\")\n",
    "\n",
    "\n",
    "plt.title(\"Northern City Latitude vs. Humidity\")\n",
    "plt.xlabel(\"Latitude\")\n",
    "plt.ylabel(\"Humidity (%)\")\n",
    "#plt.grid(True)\n",
    "\n",
    "plt.show()\n",
    "plt.savefig('../output_data/northLat_vs_Humidity.png')"
   ]
  },
  {
   "cell_type": "code",
   "execution_count": 27,
   "metadata": {},
   "outputs": [
    {
     "name": "stdout",
     "output_type": "stream",
     "text": [
      "The r-value is: 0.000543987878808455\n"
     ]
    },
    {
     "data": {
      "image/png": "[encoded data removed]",
      "text/plain": [
       "<Figure size 432x288 with 1 Axes>"
      ]
     },
     "metadata": {
      "needs_background": "light"
     },
     "output_type": "display_data"
    }
   ],
   "source": []
  },
  {
   "cell_type": "markdown",
   "metadata": {},
   "source": [
    "####  Southern Hemisphere - Humidity (%) vs. Latitude Linear Regression"
   ]
  },
  {
   "cell_type": "code",
   "execution_count": 131,
   "metadata": {},
   "outputs": [
    {
     "name": "stdout",
     "output_type": "stream",
     "text": [
      "rValue: 0.20524610575037264\n"
     ]
    },
    {
     "data": {
      "image/png": "[encoded data removed]",
      "text/plain": [
       "<Figure size 432x288 with 1 Axes>"
      ]
     },
     "metadata": {
      "needs_background": "light"
     },
     "output_type": "display_data"
    },
    {
     "data": {
      "text/plain": [
       "<Figure size 432x288 with 0 Axes>"
      ]
     },
     "metadata": {},
     "output_type": "display_data"
    }
   ],
   "source": [
    "\n",
    "plt.scatter(southx_axis,southern_cities.Humidity,marker=\"o\", facecolors=\"cornflowerblue\")\n",
    "(slope, intercept, rvalue, pvalue, stderr) = linregress(southx_axis,southern_cities.Humidity)\n",
    "\n",
    "print(f'rValue: {rvalue}')\n",
    "#eq of a line y=mx+b\n",
    "regress_values = slope*southx_axis  + intercept\n",
    "line_eq = \"y = \" + str(round(slope,2)) + \"x + \" + str(round(intercept,2))\n",
    "\n",
    "plt.plot(southx_axis,regress_values,\"r-\")\n",
    "plt.annotate(line_eq,(-40,22),fontsize=15,color=\"red\")\n",
    "\n",
    "\n",
    "plt.title(\"Southern City Latitude vs. Humidity\")\n",
    "plt.xlabel(\"Latitude\")\n",
    "plt.ylabel(\"Humidity (%)\")\n",
    "\n",
    "\n",
    "plt.show()\n",
    "plt.savefig('../output_data/southLat_vs_Humidity.png')"
   ]
  },
  {
   "cell_type": "code",
   "execution_count": 28,
   "metadata": {},
   "outputs": [
    {
     "name": "stdout",
     "output_type": "stream",
     "text": [
      "The r-value is: 0.014985174297345524\n"
     ]
    },
    {
     "data": {
      "image/png": "[encoded data removed]",
      "text/plain": [
       "<Figure size 432x288 with 1 Axes>"
      ]
     },
     "metadata": {
      "needs_background": "light"
     },
     "output_type": "display_data"
    }
   ],
   "source": []
  },
  {
   "cell_type": "markdown",
   "metadata": {},
   "source": [
    "####  Northern Hemisphere - Cloudiness (%) vs. Latitude Linear Regression"
   ]
  },
  {
   "cell_type": "code",
   "execution_count": 132,
   "metadata": {},
   "outputs": [
    {
     "name": "stdout",
     "output_type": "stream",
     "text": [
      "rValue: 0.1695784440325802\n"
     ]
    },
    {
     "data": {
      "image/png": "[encoded data removed]",
      "text/plain": [
       "<Figure size 432x288 with 1 Axes>"
      ]
     },
     "metadata": {
      "needs_background": "light"
     },
     "output_type": "display_data"
    },
    {
     "data": {
      "text/plain": [
       "<Figure size 432x288 with 0 Axes>"
      ]
     },
     "metadata": {},
     "output_type": "display_data"
    }
   ],
   "source": [
    "plt.scatter(northx_axis,northern_cities.Cloudiness,marker=\"o\", facecolors=\"cornflowerblue\")\n",
    "(slope, intercept, rvalue, pvalue, stderr) = linregress(northx_axis,northern_cities.Cloudiness)\n",
    "\n",
    "print(f'rValue: {rvalue}')\n",
    "#eq of a line y=mx+b\n",
    "regress_values = slope*northx_axis  + intercept\n",
    "line_eq = \"y = \" + str(round(slope,2)) + \"x + \" + str(round(intercept,2))\n",
    "\n",
    "plt.plot(northx_axis,regress_values,\"r-\")\n",
    "plt.annotate(line_eq,(45,10),fontsize=15,color=\"red\")\n",
    "\n",
    "\n",
    "plt.title(\"Northern City Latitude vs. Cloudiness\")\n",
    "plt.xlabel(\"Latitude\")\n",
    "plt.ylabel(\"Cloudiness (%)\")\n",
    "#plt.grid(True)\n",
    "\n",
    "plt.show()\n",
    "plt.savefig('../output_data/northLat_vs_Clouds.png')"
   ]
  },
  {
   "cell_type": "code",
   "execution_count": 29,
   "metadata": {},
   "outputs": [
    {
     "name": "stdout",
     "output_type": "stream",
     "text": [
      "The r-value is: 0.0020898727664228514\n"
     ]
    },
    {
     "data": {
      "image/png": "[encoded data removed]",
      "text/plain": [
       "<Figure size 432x288 with 1 Axes>"
      ]
     },
     "metadata": {
      "needs_background": "light"
     },
     "output_type": "display_data"
    }
   ],
   "source": []
  },
  {
   "cell_type": "markdown",
   "metadata": {},
   "source": [
    "####  Southern Hemisphere - Cloudiness (%) vs. Latitude Linear Regression"
   ]
  },
  {
   "cell_type": "code",
   "execution_count": 133,
   "metadata": {},
   "outputs": [
    {
     "name": "stdout",
     "output_type": "stream",
     "text": [
      "rValue: 0.1991911566410774\n"
     ]
    },
    {
     "data": {
      "image/png": "[encoded data removed]",
      "text/plain": [
       "<Figure size 432x288 with 1 Axes>"
      ]
     },
     "metadata": {
      "needs_background": "light"
     },
     "output_type": "display_data"
    },
    {
     "data": {
      "text/plain": [
       "<Figure size 432x288 with 0 Axes>"
      ]
     },
     "metadata": {},
     "output_type": "display_data"
    }
   ],
   "source": [
    "plt.scatter(southx_axis,southern_cities.Cloudiness,marker=\"o\", facecolors=\"cornflowerblue\")\n",
    "(slope, intercept, rvalue, pvalue, stderr) = linregress(southx_axis,southern_cities.Cloudiness)\n",
    "\n",
    "print(f'rValue: {rvalue}')\n",
    "#eq of a line y=mx+b\n",
    "regress_values = slope*southx_axis  + intercept\n",
    "line_eq = \"y = \" + str(round(slope,2)) + \"x + \" + str(round(intercept,2))\n",
    "\n",
    "plt.plot(southx_axis,regress_values,\"r-\")\n",
    "plt.annotate(line_eq,(-40,22),fontsize=15,color=\"red\")\n",
    "\n",
    "\n",
    "plt.title(\"Southern City Latitude vs. Cloudiness\")\n",
    "plt.xlabel(\"Latitude\")\n",
    "plt.ylabel(\"Cloudiness (%)\")\n",
    "\n",
    "\n",
    "plt.show()\n",
    "plt.savefig('../output_data/southLat_vs_Clouds.png')"
   ]
  },
  {
   "cell_type": "code",
   "execution_count": 30,
   "metadata": {},
   "outputs": [
    {
     "name": "stdout",
     "output_type": "stream",
     "text": [
      "The r-value is: 0.0035263772085582894\n"
     ]
    },
    {
     "data": {
      "image/png": "[encoded data removed]",
      "text/plain": [
       "<Figure size 432x288 with 1 Axes>"
      ]
     },
     "metadata": {
      "needs_background": "light"
     },
     "output_type": "display_data"
    }
   ],
   "source": []
  },
  {
   "cell_type": "markdown",
   "metadata": {},
   "source": [
    "####  Northern Hemisphere - Wind Speed (mph) vs. Latitude Linear Regression"
   ]
  },
  {
   "cell_type": "code",
   "execution_count": 134,
   "metadata": {},
   "outputs": [
    {
     "name": "stdout",
     "output_type": "stream",
     "text": [
      "rValue: 0.14182274143267326\n"
     ]
    },
    {
     "data": {
      "image/png": "[encoded data removed]",
      "text/plain": [
       "<Figure size 432x288 with 1 Axes>"
      ]
     },
     "metadata": {
      "needs_background": "light"
     },
     "output_type": "display_data"
    },
    {
     "data": {
      "text/plain": [
       "<Figure size 432x288 with 0 Axes>"
      ]
     },
     "metadata": {},
     "output_type": "display_data"
    }
   ],
   "source": [
    "plt.scatter(northx_axis,northern_cities.Wind_Speed,marker=\"o\", facecolors=\"cornflowerblue\")\n",
    "(slope, intercept, rvalue, pvalue, stderr) = linregress(northx_axis,northern_cities.Wind_Speed)\n",
    "\n",
    "print(f'rValue: {rvalue}')\n",
    "#eq of a line y=mx+b\n",
    "regress_values = slope*northx_axis  + intercept\n",
    "line_eq = \"y = \" + str(round(slope,2)) + \"x + \" + str(round(intercept,2))\n",
    "\n",
    "plt.plot(northx_axis,regress_values,\"r-\")\n",
    "plt.annotate(line_eq,(0,40),fontsize=15,color=\"red\")\n",
    "\n",
    "\n",
    "plt.title(\"Northern City Latitude vs. Wind Speed\")\n",
    "plt.xlabel(\"Latitude\")\n",
    "plt.ylabel(\"Wind Speed (mph)\")\n",
    "\n",
    "\n",
    "plt.show()\n",
    "plt.savefig('../output_data/northLat_vs_Wind.png')"
   ]
  },
  {
   "cell_type": "code",
   "execution_count": 31,
   "metadata": {},
   "outputs": [
    {
     "name": "stdout",
     "output_type": "stream",
     "text": [
      "The r-value is: 0.04019723576144484\n"
     ]
    },
    {
     "data": {
      "image/png": "[encoded data removed]",
      "text/plain": [
       "<Figure size 432x288 with 1 Axes>"
      ]
     },
     "metadata": {
      "needs_background": "light"
     },
     "output_type": "display_data"
    }
   ],
   "source": []
  },
  {
   "cell_type": "markdown",
   "metadata": {},
   "source": [
    "####  Southern Hemisphere - Wind Speed (mph) vs. Latitude Linear Regression"
   ]
  },
  {
   "cell_type": "code",
   "execution_count": 135,
   "metadata": {},
   "outputs": [
    {
     "name": "stdout",
     "output_type": "stream",
     "text": [
      "rValue: -0.08652873810689629\n"
     ]
    },
    {
     "data": {
      "image/png": "[encoded data removed]",
      "text/plain": [
       "<Figure size 432x288 with 1 Axes>"
      ]
     },
     "metadata": {
      "needs_background": "light"
     },
     "output_type": "display_data"
    },
    {
     "data": {
      "text/plain": [
       "<Figure size 432x288 with 0 Axes>"
      ]
     },
     "metadata": {},
     "output_type": "display_data"
    }
   ],
   "source": [
    "plt.scatter(southx_axis,southern_cities.Wind_Speed,marker=\"o\", facecolors=\"cornflowerblue\")\n",
    "(slope, intercept, rvalue, pvalue, stderr) = linregress(southx_axis,southern_cities.Wind_Speed)\n",
    "\n",
    "print(f'rValue: {rvalue}')\n",
    "#eq of a line y=mx+b\n",
    "regress_values = slope*southx_axis  + intercept\n",
    "line_eq = \"y = \" + str(round(slope,2)) + \"x + \" + str(round(intercept,2))\n",
    "\n",
    "plt.plot(southx_axis,regress_values,\"r-\")\n",
    "plt.annotate(line_eq,(-40,22),fontsize=15,color=\"red\")\n",
    "\n",
    "\n",
    "plt.title(\"Southern City Latitude vs. Wind Speed\")\n",
    "plt.xlabel(\"Latitude\")\n",
    "plt.ylabel(\"Wind Speed (mph)\")\n",
    "\n",
    "\n",
    "plt.show()\n",
    "plt.savefig('../output_data/southLat_vs_Wind.png')"
   ]
  },
  {
   "cell_type": "code",
   "execution_count": 32,
   "metadata": {},
   "outputs": [
    {
     "name": "stdout",
     "output_type": "stream",
     "text": [
      "The r-value is: 0.017128274759839232\n"
     ]
    },
    {
     "data": {
      "image/png": "[encoded data removed]",
      "text/plain": [
       "<Figure size 432x288 with 1 Axes>"
      ]
     },
     "metadata": {
      "needs_background": "light"
     },
     "output_type": "display_data"
    }
   ],
   "source": []
  },
  {
   "cell_type": "code",
   "execution_count": null,
   "metadata": {},
   "outputs": [],
   "source": []
  }
 ],
 "metadata": {
  "anaconda-cloud": {},
  "kernel_info": {
   "name": "python3"
  },
  "kernelspec": {
   "display_name": "Python 3",
   "language": "python",
   "name": "python3"
  },
  "language_info": {
   "codemirror_mode": {
    "name": "ipython",
    "version": 3
   },
   "file_extension": ".py",
   "mimetype": "text/x-python",
   "name": "python",
   "nbconvert_exporter": "python",
   "pygments_lexer": "ipython3",
   "version": "3.6.10"
  },
  "latex_envs": {
   "LaTeX_envs_menu_present": true,
   "autoclose": false,
   "autocomplete": true,
   "bibliofile": "biblio.bib",
   "cite_by": "apalike",
   "current_citInitial": 1,
   "eqLabelWithNumbers": true,
   "eqNumInitial": 1,
   "hotkeys": {
    "equation": "Ctrl-E",
    "itemize": "Ctrl-I"
   },
   "labels_anchors": false,
   "latex_user_defs": false,
   "report_style_numbering": false,
   "user_envs_cfg": false
  },
  "nteract": {
   "version": "0.12.3"
  }
 },
 "nbformat": 4,
 "nbformat_minor": 2
}
